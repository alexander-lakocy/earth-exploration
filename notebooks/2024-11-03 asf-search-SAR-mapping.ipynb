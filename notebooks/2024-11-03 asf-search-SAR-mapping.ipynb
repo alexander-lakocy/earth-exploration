{
 "cells": [
  {
   "cell_type": "markdown",
   "id": "1e716536-4dca-4918-93b7-efd1a0418c08",
   "metadata": {},
   "source": [
    "# Use ASF Search to find SAR data from Sentinel-1"
   ]
  },
  {
   "cell_type": "code",
   "execution_count": 90,
   "id": "0ba1d796-084d-41f5-8d10-14fefc5d6f72",
   "metadata": {},
   "outputs": [],
   "source": [
    "import asf_search as asf\n",
    "import folium\n",
    "import numpy as np"
   ]
  },
  {
   "cell_type": "code",
   "execution_count": 2,
   "id": "7d109e60-0e9c-4683-a86a-b96ff78a2ffc",
   "metadata": {},
   "outputs": [
    {
     "data": {
      "text/plain": [
       "'8.0.1'"
      ]
     },
     "execution_count": 2,
     "metadata": {},
     "output_type": "execute_result"
    }
   ],
   "source": [
    "asf.__version__"
   ]
  },
  {
   "cell_type": "markdown",
   "id": "6579b40b-35f6-4ac5-9f2a-c50ea2866769",
   "metadata": {},
   "source": [
    "## Perform first quick search"
   ]
  },
  {
   "cell_type": "code",
   "execution_count": 3,
   "id": "02684cca-ae58-483d-aebb-7c06323dbe6a",
   "metadata": {},
   "outputs": [],
   "source": [
    "search_params = {\n",
    "    \"platform\": asf.PLATFORM.SENTINEL1,\n",
    "    \"maxResults\": 20,\n",
    "}"
   ]
  },
  {
   "cell_type": "code",
   "execution_count": 5,
   "id": "b2184a63-daec-4a79-a7c6-ae8c0f5e500d",
   "metadata": {},
   "outputs": [
    {
     "name": "stdout",
     "output_type": "stream",
     "text": [
      "Found 171,649,820 results for given input parameters\n"
     ]
    }
   ],
   "source": [
    "count = asf.search_count(**search_params)\n",
    "print(f\"Found {count:,} results for given input parameters\")"
   ]
  },
  {
   "cell_type": "code",
   "execution_count": 6,
   "id": "533afe5a-dbaf-40cf-859a-af55f6d88a53",
   "metadata": {},
   "outputs": [],
   "source": [
    "results = asf.search(**search_params)"
   ]
  },
  {
   "cell_type": "markdown",
   "id": "5ce8a401-076a-452a-a764-4da55c546d6d",
   "metadata": {},
   "source": [
    "### Mess around with ASF search results"
   ]
  },
  {
   "cell_type": "code",
   "execution_count": 26,
   "id": "e05f1d98-7230-4605-bf0d-071c69aee48c",
   "metadata": {},
   "outputs": [
    {
     "name": "stdout",
     "output_type": "stream",
     "text": [
      "<class 'asf_search.ASFSearchResults.ASFSearchResults'>\n",
      "Results: \n",
      "\tdata\n",
      "\tsearchOptions\n",
      "\tsearchComplete\n",
      "<class 'list'>\n",
      "20\n",
      "<class 'asf_search.Products.S1Product.S1Product'>\n",
      "Data[0]: \n",
      "\tmeta\n",
      "\tumm\n",
      "\tproperties\n",
      "\tgeometry\n",
      "\tbaseline\n",
      "\tsession\n",
      "Data[0].meta: \n",
      "\tconcept-type\n",
      "\tconcept-id\n",
      "\trevision-id\n",
      "\tnative-id\n",
      "\tcollection-concept-id\n",
      "\tprovider-id\n",
      "\tformat\n",
      "\trevision-date\n",
      "Data[0].properties: \n",
      "\tcenterLat\n",
      "\tcenterLon\n",
      "\tstopTime\n",
      "\tfileID\n",
      "\tflightDirection\n",
      "\tpathNumber\n",
      "\tprocessingLevel\n",
      "\turl\n",
      "\tstartTime\n",
      "\tsceneName\n",
      "\tbrowse\n",
      "\tplatform\n",
      "\tbytes\n",
      "\tmd5sum\n",
      "\tframeNumber\n",
      "\tgranuleType\n",
      "\torbit\n",
      "\tpolarization\n",
      "\tprocessingDate\n",
      "\tsensor\n",
      "\tgroupID\n",
      "\tpgeVersion\n",
      "\tfileName\n",
      "\tbeamModeType\n",
      "\ts3Urls\n",
      "Data[0].properties.polarization: \n",
      "\tHH+HV\n",
      "Data[0].properties.orbit: \n",
      "\t56396\n",
      "Data[0].properties.processingDate: \n",
      "\t2024-11-03T21:35:36Z\n",
      "Data[0].properties.lat&long: \n",
      "\t4.1461\n",
      "\t-51.4776\n",
      "Data[0].geometry: \n",
      "\t('coordinates', [[[-51.2897, 4.9722], [-51.9913, 4.8735], [-51.665, 3.3196], [-50.9647, 3.419], [-51.2897, 4.9722]]])\n",
      "\t('type', 'Polygon')\n"
     ]
    }
   ],
   "source": [
    "print(type(results))\n",
    "print(\"Results: \", *results.__dict__.keys(), sep=\"\\n\\t\")\n",
    "print(type(results.data))\n",
    "print(len(results.data))\n",
    "print(type(results.data[0]))\n",
    "print(\"Data[0]: \", *results.data[0].__dict__.keys(), sep=\"\\n\\t\")\n",
    "print(\"Data[0].meta: \", *results.data[0].meta.keys(), sep=\"\\n\\t\")\n",
    "print(\"Data[0].properties: \", *results.data[0].properties.keys(), sep=\"\\n\\t\")\n",
    "print(\"Data[0].properties.polarization: \", results.data[0].properties[\"polarization\"], sep=\"\\n\\t\")\n",
    "print(\"Data[0].properties.orbit: \", results.data[0].properties[\"orbit\"], sep=\"\\n\\t\")\n",
    "print(\"Data[0].properties.processingDate: \", results.data[0].properties[\"processingDate\"], sep=\"\\n\\t\")\n",
    "print(\"Data[0].properties.lat&long: \", results.data[0].properties[\"centerLat\"], results.data[0].properties[\"centerLon\"], sep=\"\\n\\t\")\n",
    "print(\"Data[0].geometry: \", *results.data[0].geometry.items(), sep=\"\\n\\t\")"
   ]
  },
  {
   "cell_type": "code",
   "execution_count": 28,
   "id": "4f7673e5-e34d-45f2-bd8f-3264b2a4405f",
   "metadata": {},
   "outputs": [
    {
     "name": "stdout",
     "output_type": "stream",
     "text": [
      "{\n",
      "  \"geometry\": {\n",
      "    \"coordinates\": [\n",
      "      [\n",
      "        [\n",
      "          -51.2897,\n",
      "          4.9722\n",
      "        ],\n",
      "        [\n",
      "          -51.9913,\n",
      "          4.8735\n",
      "        ],\n",
      "        [\n",
      "          -51.665,\n",
      "          3.3196\n",
      "        ],\n",
      "        [\n",
      "          -50.9647,\n",
      "          3.419\n",
      "        ],\n",
      "        [\n",
      "          -51.2897,\n",
      "          4.9722\n",
      "        ]\n",
      "      ]\n",
      "    ],\n",
      "    \"type\": \"Polygon\"\n",
      "  },\n",
      "  \"properties\": {\n",
      "    \"beamModeType\": \"S2\",\n",
      "    \"browse\": null,\n",
      "    \"bytes\": 1372572578,\n",
      "    \"centerLat\": 4.1461,\n",
      "    \"centerLon\": -51.4776,\n",
      "    \"fileID\": \"S1A_S2_RAW__0SDH_20241103T213536_20241103T213602_056396_06E8EB_C318-RAW\",\n",
      "    \"fileName\": \"S1A_S2_RAW__0SDH_20241103T213536_20241103T213602_056396_06E8EB_C318.zip\",\n",
      "    \"flightDirection\": \"ASCENDING\",\n",
      "    \"frameNumber\": 9,\n",
      "    \"granuleType\": \"SENTINEL_1A_FRAME\",\n",
      "    \"groupID\": \"S1A_S2DH_0009_0015_056396_149\",\n",
      "    \"md5sum\": \"80eebcba1b005bdf1ee2072e30144456\",\n",
      "    \"orbit\": 56396,\n",
      "    \"pathNumber\": 149,\n",
      "    \"pgeVersion\": null,\n",
      "    \"platform\": \"Sentinel-1A\",\n",
      "    \"polarization\": \"HH+HV\",\n",
      "    \"processingDate\": \"2024-11-03T21:35:36Z\",\n",
      "    \"processingLevel\": \"RAW\",\n",
      "    \"s3Urls\": [\n",
      "      \"s3://asf-ngap2w-p-s1-raw-98779950/S1A_S2_RAW__0SDH_20241103T213536_20241103T213602_056396_06E8EB_C318.zip\"\n",
      "    ],\n",
      "    \"sceneName\": \"S1A_S2_RAW__0SDH_20241103T213536_20241103T213602_056396_06E8EB_C318\",\n",
      "    \"sensor\": \"C-SAR\",\n",
      "    \"startTime\": \"2024-11-03T21:35:36Z\",\n",
      "    \"stopTime\": \"2024-11-03T21:36:02Z\",\n",
      "    \"url\": \"https://datapool.asf.alaska.edu/RAW/SA/S1A_S2_RAW__0SDH_20241103T213536_20241103T213602_056396_06E8EB_C318.zip\"\n",
      "  },\n",
      "  \"type\": \"Feature\"\n",
      "}\n"
     ]
    }
   ],
   "source": [
    "print(results[0])"
   ]
  },
  {
   "cell_type": "markdown",
   "id": "6d66b69c-f7ff-489e-8b9a-32e07a67ceeb",
   "metadata": {},
   "source": [
    "## Geographic Search\n",
    "\n",
    "### Define Area of Interest - Rogue Valley, Oregon"
   ]
  },
  {
   "cell_type": "code",
   "execution_count": 29,
   "id": "ee2eba6b-4bf5-41e9-b2dd-792e2279f794",
   "metadata": {},
   "outputs": [],
   "source": [
    "# Created using Vertex search click on map\n",
    "aoi = \"POLYGON((-123.0252 42.3902,-122.5958 42.1035,-122.4631 42.155,-122.8968 42.4694,-123.0252 42.3902))\""
   ]
  },
  {
   "cell_type": "code",
   "execution_count": 66,
   "id": "3b7b1ffe-839e-4e19-a5f6-991b11b6ec38",
   "metadata": {},
   "outputs": [],
   "source": [
    "search_params = {\n",
    "    \"platform\": asf.PLATFORM.SENTINEL1,\n",
    "    \"maxResults\": 200,\n",
    "    \"start\": \"2018-06-01\",\n",
    "    \"end\": \"2018-06-07\",\n",
    "    \"processingLevel\": asf.PRODUCT_TYPE.SLC,\n",
    "}"
   ]
  },
  {
   "cell_type": "code",
   "execution_count": 67,
   "id": "f36dcbdc-ff3a-4e5a-94ee-41b0efc3ea2f",
   "metadata": {},
   "outputs": [
    {
     "name": "stdout",
     "output_type": "stream",
     "text": [
      "Found 5,445 results for given input parameters\n"
     ]
    }
   ],
   "source": [
    "# Count results without geometry filter\n",
    "count_results = asf.search_count(**search_params)\n",
    "print(f\"Found {count_results:,} results for given input parameters\")"
   ]
  },
  {
   "cell_type": "markdown",
   "id": "7481b3bf-cffa-4938-8a95-92d724f13e48",
   "metadata": {},
   "source": [
    "### Perform Geometric Search"
   ]
  },
  {
   "cell_type": "code",
   "execution_count": 68,
   "id": "221b0d2a-c777-48db-86cc-74db3ff26cae",
   "metadata": {},
   "outputs": [
    {
     "name": "stdout",
     "output_type": "stream",
     "text": [
      "(2) results found\n"
     ]
    }
   ],
   "source": [
    "geo_results = asf.geo_search(intersectsWith=aoi, **search_params)\n",
    "print(f\"({len(geo_results)}) results found\")"
   ]
  },
  {
   "cell_type": "code",
   "execution_count": 69,
   "id": "51420b91-7de2-4690-96ae-0fb48f723f7a",
   "metadata": {},
   "outputs": [
    {
     "name": "stdout",
     "output_type": "stream",
     "text": [
      "42.0993 -122.138\n",
      "latest_result_date = '2018-06-06T14:14:41Z'\n"
     ]
    }
   ],
   "source": [
    "print(geo_results[0].properties[\"centerLat\"], geo_results[0].properties[\"centerLon\"])\n",
    "latest_result_date = geo_results[0].properties[\"processingDate\"]\n",
    "print(f\"{latest_result_date = }\")"
   ]
  },
  {
   "cell_type": "markdown",
   "id": "3c7e6834-3e2f-4bdf-9f2c-9f6b1b991104",
   "metadata": {},
   "source": [
    "### Find `stack` of results to compare over time"
   ]
  },
  {
   "cell_type": "code",
   "execution_count": 70,
   "id": "99f6705c-251c-4ebc-aac9-59ab9fb1bfe6",
   "metadata": {},
   "outputs": [
    {
     "name": "stdout",
     "output_type": "stream",
     "text": [
      "273 product results found in stack\n",
      "(76): 2018-06-06T14:14:41Z\t0\n",
      "(76): 2018-06-06T14:14:41Z\t0\n"
     ]
    }
   ],
   "source": [
    "stack = geo_results[0].stack()\n",
    "\n",
    "print(f\"{len(stack)} product results found in stack\")\n",
    "\n",
    "for i, r in enumerate(stack):\n",
    "    if \"2018-06-06\" in r.properties[\"processingDate\"]:\n",
    "        print(f\"({i}): {r.properties[\"processingDate\"]}\\t{r.properties['temporalBaseline']}\")\n",
    "    if r.properties[\"processingDate\"] == latest_result_date:\n",
    "        print(f\"({i}): {r.properties[\"processingDate\"]}\\t{r.properties['temporalBaseline']}\")\n",
    "        break"
   ]
  },
  {
   "cell_type": "code",
   "execution_count": 72,
   "id": "7d8fe68f-de75-4b4c-97fa-f2525372004e",
   "metadata": {},
   "outputs": [
    {
     "name": "stdout",
     "output_type": "stream",
     "text": [
      "2015-02-22T14:14:31Z: -1200\n",
      "2015-02-22T14:14:06Z: -1200\n",
      "2015-03-06T14:14:30Z: -1188\n",
      "2015-03-18T14:14:31Z: -1176\n",
      "2015-03-30T14:14:32Z: -1164\n",
      "2015-03-30T14:14:06Z: -1164\n",
      "2015-04-11T14:14:32Z: -1152\n",
      "2015-04-11T14:14:07Z: -1152\n",
      "2015-04-23T14:14:33Z: -1140\n",
      "2015-04-23T14:14:07Z: -1140\n",
      "2015-06-10T14:14:30Z: -1092\n",
      "2015-07-04T14:14:31Z: -1068\n",
      "2015-07-28T14:14:32Z: -1044\n",
      "2015-08-21T14:14:34Z: -1020\n",
      "2015-09-14T14:14:34Z: -996\n",
      "2015-10-08T14:14:35Z: -972\n",
      "2015-11-01T14:14:35Z: -948\n",
      "2015-11-25T14:14:29Z: -924\n",
      "2015-12-19T14:14:28Z: -900\n",
      "2016-01-12T14:14:27Z: -876\n",
      "2016-02-05T14:14:27Z: -852\n",
      "2016-02-29T14:14:27Z: -828\n",
      "2016-04-17T14:14:28Z: -780\n",
      "2016-05-11T14:14:29Z: -756\n",
      "2016-06-04T14:14:30Z: -732\n",
      "2024-11-01T14:15:16Z: 2340\n"
     ]
    }
   ],
   "source": [
    "for i in range(25):\n",
    "    print(f\"{stack[i].properties[\"processingDate\"]}: {stack[i].properties[\"temporalBaseline\"]}\")\n",
    "i = -1\n",
    "print(f\"{stack[i].properties[\"processingDate\"]}: {stack[i].properties[\"temporalBaseline\"]}\")"
   ]
  },
  {
   "cell_type": "markdown",
   "id": "7b81c157-386e-436b-9746-068f440d38bc",
   "metadata": {},
   "source": [
    "### Plot Result"
   ]
  },
  {
   "cell_type": "code",
   "execution_count": 81,
   "id": "f43abdd6-4471-4e46-a97c-a7d62e59db6c",
   "metadata": {},
   "outputs": [],
   "source": [
    "product = geo_results[0]\n",
    "footprint = product.geojson()"
   ]
  },
  {
   "cell_type": "code",
   "execution_count": 92,
   "id": "90f0879c-c2c7-42db-ab9c-c75924f5b168",
   "metadata": {},
   "outputs": [
    {
     "name": "stdout",
     "output_type": "stream",
     "text": [
      "<class 'dict'>\n",
      "dict_keys(['type', 'geometry', 'properties'])\n",
      "<class 'dict'>\n",
      "dict_keys(['coordinates', 'type'])\n",
      "[[[-120.842606, 41.083923], [-120.418518, 42.702103], [-123.48111, 43.094376], [-123.8255, 41.476665], [-120.842606, 41.083923]]]\n",
      "Mean lat: 41.8882,\tMean long: -121.8821\n"
     ]
    }
   ],
   "source": [
    "print(type(footprint))\n",
    "print(footprint.keys())\n",
    "print(type(footprint[\"geometry\"]))\n",
    "print(footprint[\"geometry\"].keys())\n",
    "print(footprint[\"geometry\"][\"coordinates\"])\n",
    "coords_np = np.array(footprint[\"geometry\"][\"coordinates\"])\n",
    "long_mean = np.mean(coords_np[:, :, 0])\n",
    "lat_mean = np.mean(coords_np[:, :, 1])\n",
    "print(f\"Mean lat: {lat_mean:0.4f},\\tMean long: {long_mean:0.4f}\")"
   ]
  },
  {
   "cell_type": "code",
   "execution_count": 93,
   "id": "2072c6a6-8a5d-4e0c-a193-fda5c7c39624",
   "metadata": {},
   "outputs": [],
   "source": [
    "center_coords = [\n",
    "    lat_mean, \n",
    "    long_mean,\n",
    "]"
   ]
  },
  {
   "cell_type": "code",
   "execution_count": 94,
   "id": "bf091338-bf47-4433-b3c5-9eba24debfa5",
   "metadata": {},
   "outputs": [
    {
     "data": {
      "text/plain": [
       "<folium.features.GeoJson at 0x1b9689feb10>"
      ]
     },
     "execution_count": 94,
     "metadata": {},
     "output_type": "execute_result"
    }
   ],
   "source": [
    "m = folium.Map(location=center_coords, zoom_start=8)\n",
    "folium.GeoJson(footprint, name=\"SAR Product Footprint\").add_to(m)"
   ]
  },
  {
   "cell_type": "code",
   "execution_count": 95,
   "id": "f2e41ad7-65b1-4eb8-8091-2c69a4061eb0",
   "metadata": {},
   "outputs": [
    {
     "data": {
      "text/html": [
       "<div style=\"width:100%;\"><div style=\"position:relative;width:100%;height:0;padding-bottom:60%;\"><span style=\"color:#565656\">Make this Notebook Trusted to load map: File -> Trust Notebook</span><iframe srcdoc=\"&lt;!DOCTYPE html&gt;\n",
       "&lt;html&gt;\n",
       "&lt;head&gt;\n",
       "    \n",
       "    &lt;meta http-equiv=&quot;content-type&quot; content=&quot;text/html; charset=UTF-8&quot; /&gt;\n",
       "    \n",
       "        &lt;script&gt;\n",
       "            L_NO_TOUCH = false;\n",
       "            L_DISABLE_3D = false;\n",
       "        &lt;/script&gt;\n",
       "    \n",
       "    &lt;style&gt;html, body {width: 100%;height: 100%;margin: 0;padding: 0;}&lt;/style&gt;\n",
       "    &lt;style&gt;#map {position:absolute;top:0;bottom:0;right:0;left:0;}&lt;/style&gt;\n",
       "    &lt;script src=&quot;https://cdn.jsdelivr.net/npm/leaflet@1.9.3/dist/leaflet.js&quot;&gt;&lt;/script&gt;\n",
       "    &lt;script src=&quot;https://code.jquery.com/jquery-3.7.1.min.js&quot;&gt;&lt;/script&gt;\n",
       "    &lt;script src=&quot;https://cdn.jsdelivr.net/npm/bootstrap@5.2.2/dist/js/bootstrap.bundle.min.js&quot;&gt;&lt;/script&gt;\n",
       "    &lt;script src=&quot;https://cdnjs.cloudflare.com/ajax/libs/Leaflet.awesome-markers/2.0.2/leaflet.awesome-markers.js&quot;&gt;&lt;/script&gt;\n",
       "    &lt;link rel=&quot;stylesheet&quot; href=&quot;https://cdn.jsdelivr.net/npm/leaflet@1.9.3/dist/leaflet.css&quot;/&gt;\n",
       "    &lt;link rel=&quot;stylesheet&quot; href=&quot;https://cdn.jsdelivr.net/npm/bootstrap@5.2.2/dist/css/bootstrap.min.css&quot;/&gt;\n",
       "    &lt;link rel=&quot;stylesheet&quot; href=&quot;https://netdna.bootstrapcdn.com/bootstrap/3.0.0/css/bootstrap-glyphicons.css&quot;/&gt;\n",
       "    &lt;link rel=&quot;stylesheet&quot; href=&quot;https://cdn.jsdelivr.net/npm/@fortawesome/fontawesome-free@6.2.0/css/all.min.css&quot;/&gt;\n",
       "    &lt;link rel=&quot;stylesheet&quot; href=&quot;https://cdnjs.cloudflare.com/ajax/libs/Leaflet.awesome-markers/2.0.2/leaflet.awesome-markers.css&quot;/&gt;\n",
       "    &lt;link rel=&quot;stylesheet&quot; href=&quot;https://cdn.jsdelivr.net/gh/python-visualization/folium/folium/templates/leaflet.awesome.rotate.min.css&quot;/&gt;\n",
       "    \n",
       "            &lt;meta name=&quot;viewport&quot; content=&quot;width=device-width,\n",
       "                initial-scale=1.0, maximum-scale=1.0, user-scalable=no&quot; /&gt;\n",
       "            &lt;style&gt;\n",
       "                #map_9decd964cb0110a9db583ce9d4594c73 {\n",
       "                    position: relative;\n",
       "                    width: 100.0%;\n",
       "                    height: 100.0%;\n",
       "                    left: 0.0%;\n",
       "                    top: 0.0%;\n",
       "                }\n",
       "                .leaflet-container { font-size: 1rem; }\n",
       "            &lt;/style&gt;\n",
       "        \n",
       "&lt;/head&gt;\n",
       "&lt;body&gt;\n",
       "    \n",
       "    \n",
       "            &lt;div class=&quot;folium-map&quot; id=&quot;map_9decd964cb0110a9db583ce9d4594c73&quot; &gt;&lt;/div&gt;\n",
       "        \n",
       "&lt;/body&gt;\n",
       "&lt;script&gt;\n",
       "    \n",
       "    \n",
       "            var map_9decd964cb0110a9db583ce9d4594c73 = L.map(\n",
       "                &quot;map_9decd964cb0110a9db583ce9d4594c73&quot;,\n",
       "                {\n",
       "                    center: [41.888197999999996, -121.882068],\n",
       "                    crs: L.CRS.EPSG3857,\n",
       "                    zoom: 8,\n",
       "                    zoomControl: true,\n",
       "                    preferCanvas: false,\n",
       "                }\n",
       "            );\n",
       "\n",
       "            \n",
       "\n",
       "        \n",
       "    \n",
       "            var tile_layer_e5eb17473c7f0173d9f9235486342cc2 = L.tileLayer(\n",
       "                &quot;https://tile.openstreetmap.org/{z}/{x}/{y}.png&quot;,\n",
       "                {&quot;attribution&quot;: &quot;\\u0026copy; \\u003ca href=\\&quot;https://www.openstreetmap.org/copyright\\&quot;\\u003eOpenStreetMap\\u003c/a\\u003e contributors&quot;, &quot;detectRetina&quot;: false, &quot;maxNativeZoom&quot;: 19, &quot;maxZoom&quot;: 19, &quot;minZoom&quot;: 0, &quot;noWrap&quot;: false, &quot;opacity&quot;: 1, &quot;subdomains&quot;: &quot;abc&quot;, &quot;tms&quot;: false}\n",
       "            );\n",
       "        \n",
       "    \n",
       "            tile_layer_e5eb17473c7f0173d9f9235486342cc2.addTo(map_9decd964cb0110a9db583ce9d4594c73);\n",
       "        \n",
       "    \n",
       "\n",
       "        function geo_json_2fefea9594374b1bd6dd904bff001a6a_onEachFeature(feature, layer) {\n",
       "            layer.on({\n",
       "            });\n",
       "        };\n",
       "        var geo_json_2fefea9594374b1bd6dd904bff001a6a = L.geoJson(null, {\n",
       "                onEachFeature: geo_json_2fefea9594374b1bd6dd904bff001a6a_onEachFeature,\n",
       "            \n",
       "        });\n",
       "\n",
       "        function geo_json_2fefea9594374b1bd6dd904bff001a6a_add (data) {\n",
       "            geo_json_2fefea9594374b1bd6dd904bff001a6a\n",
       "                .addData(data);\n",
       "        }\n",
       "            geo_json_2fefea9594374b1bd6dd904bff001a6a_add({&quot;geometry&quot;: {&quot;coordinates&quot;: [[[-120.842606, 41.083923], [-120.418518, 42.702103], [-123.48111, 43.094376], [-123.8255, 41.476665], [-120.842606, 41.083923]]], &quot;type&quot;: &quot;Polygon&quot;}, &quot;properties&quot;: {&quot;beamModeType&quot;: &quot;IW&quot;, &quot;browse&quot;: null, &quot;bytes&quot;: 4664892613, &quot;centerLat&quot;: 42.0993, &quot;centerLon&quot;: -122.138, &quot;fileID&quot;: &quot;S1A_IW_SLC__1SDV_20180606T141441_20180606T141508_022237_0267EB_EC03-SLC&quot;, &quot;fileName&quot;: &quot;S1A_IW_SLC__1SDV_20180606T141441_20180606T141508_022237_0267EB_EC03.zip&quot;, &quot;flightDirection&quot;: &quot;DESCENDING&quot;, &quot;frameNumber&quot;: 452, &quot;granuleType&quot;: &quot;SENTINEL_1A_FRAME&quot;, &quot;groupID&quot;: &quot;S1A_IWDV_0451_0458_022237_115&quot;, &quot;md5sum&quot;: &quot;fb8989f2be22b31e2dd776349578c1dd&quot;, &quot;orbit&quot;: 22237, &quot;pathNumber&quot;: 115, &quot;pgeVersion&quot;: &quot;002.90&quot;, &quot;platform&quot;: &quot;Sentinel-1A&quot;, &quot;polarization&quot;: &quot;VV+VH&quot;, &quot;processingDate&quot;: &quot;2018-06-06T14:14:41Z&quot;, &quot;processingLevel&quot;: &quot;SLC&quot;, &quot;s3Urls&quot;: [&quot;s3://asf-ngap2w-p-s1-slc-7b420b89/S1A_IW_SLC__1SDV_20180606T141441_20180606T141508_022237_0267EB_EC03.zip&quot;], &quot;sceneName&quot;: &quot;S1A_IW_SLC__1SDV_20180606T141441_20180606T141508_022237_0267EB_EC03&quot;, &quot;sensor&quot;: &quot;C-SAR&quot;, &quot;startTime&quot;: &quot;2018-06-06T14:14:41Z&quot;, &quot;stopTime&quot;: &quot;2018-06-06T14:15:08Z&quot;, &quot;url&quot;: &quot;https://datapool.asf.alaska.edu/SLC/SA/S1A_IW_SLC__1SDV_20180606T141441_20180606T141508_022237_0267EB_EC03.zip&quot;}, &quot;type&quot;: &quot;Feature&quot;});\n",
       "        geo_json_2fefea9594374b1bd6dd904bff001a6a.setStyle(function(feature) {return feature.properties.style;});\n",
       "\n",
       "        \n",
       "    \n",
       "            geo_json_2fefea9594374b1bd6dd904bff001a6a.addTo(map_9decd964cb0110a9db583ce9d4594c73);\n",
       "        \n",
       "&lt;/script&gt;\n",
       "&lt;/html&gt;\" style=\"position:absolute;width:100%;height:100%;left:0;top:0;border:none !important;\" allowfullscreen webkitallowfullscreen mozallowfullscreen></iframe></div></div>"
      ],
      "text/plain": [
       "<folium.folium.Map at 0x1b964dfe330>"
      ]
     },
     "execution_count": 95,
     "metadata": {},
     "output_type": "execute_result"
    }
   ],
   "source": [
    "m"
   ]
  },
  {
   "cell_type": "code",
   "execution_count": null,
   "id": "b96f341d-6b1b-4d1e-935e-54c976f429e3",
   "metadata": {},
   "outputs": [],
   "source": []
  }
 ],
 "metadata": {
  "kernelspec": {
   "display_name": "Python 3 (ipykernel)",
   "language": "python",
   "name": "python3"
  },
  "language_info": {
   "codemirror_mode": {
    "name": "ipython",
    "version": 3
   },
   "file_extension": ".py",
   "mimetype": "text/x-python",
   "name": "python",
   "nbconvert_exporter": "python",
   "pygments_lexer": "ipython3",
   "version": "3.12.2"
  }
 },
 "nbformat": 4,
 "nbformat_minor": 5
}
