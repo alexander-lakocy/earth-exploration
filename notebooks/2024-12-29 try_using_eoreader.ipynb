{
 "cells": [
  {
   "cell_type": "code",
   "execution_count": 1,
   "id": "e17dff25-b460-4786-8329-103f84114664",
   "metadata": {},
   "outputs": [],
   "source": [
    "# try eoreader library"
   ]
  },
  {
   "cell_type": "code",
   "execution_count": 5,
   "id": "5f192163-e94f-41e7-b810-35182c96a524",
   "metadata": {},
   "outputs": [],
   "source": [
    "\n",
    "import eoreader\n",
    "import glob"
   ]
  },
  {
   "cell_type": "code",
   "execution_count": 8,
   "id": "93fecf9e-2410-4b07-96f4-4174a37e6074",
   "metadata": {},
   "outputs": [],
   "source": [
    "from eoreader.reader import Reader\n",
    "from eoreader.bands import VV, VH"
   ]
  },
  {
   "cell_type": "code",
   "execution_count": 6,
   "id": "2752dc48-7d9e-464f-bc03-94110d4ae4ec",
   "metadata": {},
   "outputs": [
    {
     "name": "stdout",
     "output_type": "stream",
     "text": [
      "../data/sentinel-1\\S1A_IW_SLC__1SDV_20180606T141441_20180606T141508_022237_0267EB_EC03.zip\n"
     ]
    }
   ],
   "source": [
    "zips = glob.glob(\"../data/sentinel-1/*.zip\")\n",
    "print(zips[0])"
   ]
  },
  {
   "cell_type": "code",
   "execution_count": 7,
   "id": "33231b2d-75f5-421c-b477-fc45b278aa56",
   "metadata": {},
   "outputs": [],
   "source": [
    "prod = Reader().open(zips[0])"
   ]
  },
  {
   "cell_type": "code",
   "execution_count": 11,
   "id": "54afba33-15fa-476c-b225-15da66c31327",
   "metadata": {},
   "outputs": [
    {
     "name": "stderr",
     "output_type": "stream",
     "text": [
      "Failed to open dataset (flags=68): /vsizip/..\\data\\sentinel-1\\S1A_IW_SLC__1SDV_20180606T141441_20180606T141508_022237_0267EB_EC03.zip!S1A_IW_SLC__1SDV_20180606T141441_20180606T141508_022237_0267EB_EC03.SAFE/preview/map-overlay.kml\n"
     ]
    },
    {
     "ename": "InvalidProductError",
     "evalue": "Cannot determine the WGS84 extent of S1A_IW_SLC__1SDV_20180606T141441_20180606T141508_022237_0267EB_EC03",
     "output_type": "error",
     "traceback": [
      "\u001b[1;31m---------------------------------------------------------------------------\u001b[0m",
      "\u001b[1;31mFileNotFoundError\u001b[0m                         Traceback (most recent call last)",
      "File \u001b[1;32m~\\AppData\\Local\\pypoetry\\Cache\\virtualenvs\\earth-exploration-QkpwS6pU-py3.12\\Lib\\site-packages\\eoreader\\products\\sar\\sar_product.py:465\u001b[0m, in \u001b[0;36mSarProduct.get_band_paths\u001b[1;34m(self, band_list, pixel_size, **kwargs)\u001b[0m\n\u001b[0;32m    464\u001b[0m     band_id \u001b[38;5;241m=\u001b[39m \u001b[38;5;28mself\u001b[39m\u001b[38;5;241m.\u001b[39mbands[band]\u001b[38;5;241m.\u001b[39mid\n\u001b[1;32m--> 465\u001b[0m     band_paths[band] \u001b[38;5;241m=\u001b[39m \u001b[43mpath\u001b[49m\u001b[38;5;241;43m.\u001b[39;49m\u001b[43mget_file_in_dir\u001b[49m\u001b[43m(\u001b[49m\n\u001b[0;32m    466\u001b[0m \u001b[43m        \u001b[49m\u001b[38;5;28;43mself\u001b[39;49m\u001b[38;5;241;43m.\u001b[39;49m\u001b[43m_get_band_folder\u001b[49m\u001b[43m(\u001b[49m\u001b[43m)\u001b[49m\u001b[43m,\u001b[49m\n\u001b[0;32m    467\u001b[0m \u001b[43m        \u001b[49m\u001b[38;5;124;43mf\u001b[39;49m\u001b[38;5;124;43m\"\u001b[39;49m\u001b[38;5;124;43m*\u001b[39;49m\u001b[38;5;132;43;01m{\u001b[39;49;00m\u001b[38;5;28;43mself\u001b[39;49m\u001b[38;5;241;43m.\u001b[39;49m\u001b[43mcondensed_name\u001b[49m\u001b[38;5;132;43;01m}\u001b[39;49;00m\u001b[38;5;124;43m_\u001b[39;49m\u001b[38;5;132;43;01m{\u001b[39;49;00m\u001b[43mband_id\u001b[49m\u001b[38;5;132;43;01m}\u001b[39;49;00m\u001b[38;5;124;43m.tif\u001b[39;49m\u001b[38;5;124;43m\"\u001b[39;49m\u001b[43m,\u001b[49m\n\u001b[0;32m    468\u001b[0m \u001b[43m        \u001b[49m\u001b[43mexact_name\u001b[49m\u001b[38;5;241;43m=\u001b[39;49m\u001b[38;5;28;43;01mTrue\u001b[39;49;00m\u001b[43m,\u001b[49m\n\u001b[0;32m    469\u001b[0m \u001b[43m    \u001b[49m\u001b[43m)\u001b[49m\n\u001b[0;32m    470\u001b[0m \u001b[38;5;28;01mexcept\u001b[39;00m \u001b[38;5;167;01mFileNotFoundError\u001b[39;00m:\n",
      "File \u001b[1;32m~\\AppData\\Local\\pypoetry\\Cache\\virtualenvs\\earth-exploration-QkpwS6pU-py3.12\\Lib\\site-packages\\sertit\\path.py:532\u001b[0m, in \u001b[0;36mget_file_in_dir\u001b[1;34m(directory, pattern_str, extension, filename_only, get_list, exact_name)\u001b[0m\n\u001b[0;32m    531\u001b[0m \u001b[38;5;28;01mif\u001b[39;00m \u001b[38;5;28mlen\u001b[39m(file_list) \u001b[38;5;241m==\u001b[39m \u001b[38;5;241m0\u001b[39m:\n\u001b[1;32m--> 532\u001b[0m     \u001b[38;5;28;01mraise\u001b[39;00m \u001b[38;5;167;01mFileNotFoundError\u001b[39;00m(\n\u001b[0;32m    533\u001b[0m         \u001b[38;5;124mf\u001b[39m\u001b[38;5;124m\"\u001b[39m\u001b[38;5;124mFile with pattern \u001b[39m\u001b[38;5;132;01m{\u001b[39;00mglob_pattern\u001b[38;5;132;01m}\u001b[39;00m\u001b[38;5;124m not found in \u001b[39m\u001b[38;5;132;01m{\u001b[39;00mdirectory\u001b[38;5;132;01m}\u001b[39;00m\u001b[38;5;124m\"\u001b[39m\n\u001b[0;32m    534\u001b[0m     )\n\u001b[0;32m    536\u001b[0m \u001b[38;5;66;03m# Return list, file path or file name\u001b[39;00m\n",
      "\u001b[1;31mFileNotFoundError\u001b[0m: File with pattern *20180606T141442_S1_VV_VH_IW_SLC_VH.tif not found in C:\\Users\\alakocy\\AppData\\Local\\Temp\\tmp_s9g3fg5\\tmp_20180606T141442_S1_VV_VH_IW_SLC",
      "\nDuring handling of the above exception, another exception occurred:\n",
      "\u001b[1;31mInvalidProductError\u001b[0m                       Traceback (most recent call last)",
      "File \u001b[1;32m~\\AppData\\Local\\pypoetry\\Cache\\virtualenvs\\earth-exploration-QkpwS6pU-py3.12\\Lib\\site-packages\\eoreader\\products\\sar\\s1_product.py:263\u001b[0m, in \u001b[0;36mS1Product.wgs84_extent\u001b[1;34m(self)\u001b[0m\n\u001b[0;32m    262\u001b[0m     \u001b[38;5;28;01mif\u001b[39;00m extent_wgs84\u001b[38;5;241m.\u001b[39mempty:\n\u001b[1;32m--> 263\u001b[0m         \u001b[38;5;28;01mraise\u001b[39;00m InvalidProductError(\n\u001b[0;32m    264\u001b[0m             \u001b[38;5;124mf\u001b[39m\u001b[38;5;124m\"\u001b[39m\u001b[38;5;124mCannot determine the WGS84 extent of \u001b[39m\u001b[38;5;132;01m{\u001b[39;00m\u001b[38;5;28mself\u001b[39m\u001b[38;5;241m.\u001b[39mname\u001b[38;5;132;01m}\u001b[39;00m\u001b[38;5;124m\"\u001b[39m\n\u001b[0;32m    265\u001b[0m         )\n\u001b[0;32m    267\u001b[0m \u001b[38;5;28;01mexcept\u001b[39;00m \u001b[38;5;167;01mException\u001b[39;00m \u001b[38;5;28;01mas\u001b[39;00m ex:\n",
      "\u001b[1;31mInvalidProductError\u001b[0m: Cannot determine the WGS84 extent of S1A_IW_SLC__1SDV_20180606T141441_20180606T141508_022237_0267EB_EC03",
      "\nThe above exception was the direct cause of the following exception:\n",
      "\u001b[1;31mInvalidProductError\u001b[0m                       Traceback (most recent call last)",
      "Cell \u001b[1;32mIn[11], line 1\u001b[0m\n\u001b[1;32m----> 1\u001b[0m vh_band \u001b[38;5;241m=\u001b[39m \u001b[43mprod\u001b[49m\u001b[38;5;241;43m.\u001b[39;49m\u001b[43mload\u001b[49m\u001b[43m(\u001b[49m\u001b[43mVH\u001b[49m\u001b[43m)\u001b[49m[VH]\n\u001b[0;32m      2\u001b[0m vv_band \u001b[38;5;241m=\u001b[39m prod\u001b[38;5;241m.\u001b[39mload(VV)[VV]\n",
      "File \u001b[1;32m~\\AppData\\Local\\pypoetry\\Cache\\virtualenvs\\earth-exploration-QkpwS6pU-py3.12\\Lib\\site-packages\\eoreader\\products\\product.py:914\u001b[0m, in \u001b[0;36mProduct.load\u001b[1;34m(self, bands, pixel_size, size, **kwargs)\u001b[0m\n\u001b[0;32m    912\u001b[0m \u001b[38;5;66;03m# Load bands (only once ! and convert the bands to be loaded to correct format)\u001b[39;00m\n\u001b[0;32m    913\u001b[0m unique_bands \u001b[38;5;241m=\u001b[39m misc\u001b[38;5;241m.\u001b[39munique(bands)\n\u001b[1;32m--> 914\u001b[0m band_xds \u001b[38;5;241m=\u001b[39m \u001b[38;5;28;43mself\u001b[39;49m\u001b[38;5;241;43m.\u001b[39;49m\u001b[43m_load\u001b[49m\u001b[43m(\u001b[49m\u001b[43munique_bands\u001b[49m\u001b[43m,\u001b[49m\u001b[43m \u001b[49m\u001b[43mpixel_size\u001b[49m\u001b[43m,\u001b[49m\u001b[43m \u001b[49m\u001b[43msize\u001b[49m\u001b[43m,\u001b[49m\u001b[43m \u001b[49m\u001b[38;5;241;43m*\u001b[39;49m\u001b[38;5;241;43m*\u001b[39;49m\u001b[43mkwargs\u001b[49m\u001b[43m)\u001b[49m\n\u001b[0;32m    916\u001b[0m \u001b[38;5;66;03m# Rename all bands and add attributes\u001b[39;00m\n\u001b[0;32m    917\u001b[0m \u001b[38;5;28;01mfor\u001b[39;00m key, val \u001b[38;5;129;01min\u001b[39;00m band_xds\u001b[38;5;241m.\u001b[39mitems():\n",
      "File \u001b[1;32m~\\AppData\\Local\\pypoetry\\Cache\\virtualenvs\\earth-exploration-QkpwS6pU-py3.12\\Lib\\site-packages\\eoreader\\products\\product.py:1012\u001b[0m, in \u001b[0;36mProduct._load\u001b[1;34m(self, bands, pixel_size, size, **kwargs)\u001b[0m\n\u001b[0;32m   1010\u001b[0m \u001b[38;5;28;01mif\u001b[39;00m unique_bands:\n\u001b[0;32m   1011\u001b[0m     LOGGER\u001b[38;5;241m.\u001b[39mdebug(\u001b[38;5;124mf\u001b[39m\u001b[38;5;124m\"\u001b[39m\u001b[38;5;124mLoading bands \u001b[39m\u001b[38;5;132;01m{\u001b[39;00mto_str(unique_bands)\u001b[38;5;132;01m}\u001b[39;00m\u001b[38;5;124m\"\u001b[39m)\n\u001b[1;32m-> 1012\u001b[0m     loaded_bands \u001b[38;5;241m=\u001b[39m \u001b[38;5;28;43mself\u001b[39;49m\u001b[38;5;241;43m.\u001b[39;49m\u001b[43m_load_bands\u001b[49m\u001b[43m(\u001b[49m\n\u001b[0;32m   1013\u001b[0m \u001b[43m        \u001b[49m\u001b[43munique_bands\u001b[49m\u001b[43m,\u001b[49m\u001b[43m \u001b[49m\u001b[43mpixel_size\u001b[49m\u001b[38;5;241;43m=\u001b[39;49m\u001b[43mpixel_size\u001b[49m\u001b[43m,\u001b[49m\u001b[43m \u001b[49m\u001b[43msize\u001b[49m\u001b[38;5;241;43m=\u001b[39;49m\u001b[43msize\u001b[49m\u001b[43m,\u001b[49m\u001b[43m \u001b[49m\u001b[38;5;241;43m*\u001b[39;49m\u001b[38;5;241;43m*\u001b[39;49m\u001b[43mkwargs\u001b[49m\n\u001b[0;32m   1014\u001b[0m \u001b[43m    \u001b[49m\u001b[43m)\u001b[49m\n\u001b[0;32m   1016\u001b[0m     \u001b[38;5;66;03m# Compute index (they conserve the nodata)\u001b[39;00m\n\u001b[0;32m   1017\u001b[0m     \u001b[38;5;28;01mif\u001b[39;00m index_list:\n\u001b[0;32m   1018\u001b[0m         \u001b[38;5;66;03m# Collocate bands before indices to ensure the same size to perform operations between bands\u001b[39;00m\n",
      "File \u001b[1;32m~\\AppData\\Local\\pypoetry\\Cache\\virtualenvs\\earth-exploration-QkpwS6pU-py3.12\\Lib\\site-packages\\eoreader\\products\\sar\\sar_product.py:674\u001b[0m, in \u001b[0;36mSarProduct._load_bands\u001b[1;34m(self, bands, pixel_size, size, **kwargs)\u001b[0m\n\u001b[0;32m    672\u001b[0m \u001b[38;5;28;01mif\u001b[39;00m pixel_size \u001b[38;5;129;01mis\u001b[39;00m \u001b[38;5;28;01mNone\u001b[39;00m \u001b[38;5;129;01mand\u001b[39;00m size \u001b[38;5;129;01mis\u001b[39;00m \u001b[38;5;129;01mnot\u001b[39;00m \u001b[38;5;28;01mNone\u001b[39;00m:\n\u001b[0;32m    673\u001b[0m     pixel_size \u001b[38;5;241m=\u001b[39m \u001b[38;5;28mself\u001b[39m\u001b[38;5;241m.\u001b[39m_pixel_size_from_img_size(size)\n\u001b[1;32m--> 674\u001b[0m band_paths \u001b[38;5;241m=\u001b[39m \u001b[38;5;28;43mself\u001b[39;49m\u001b[38;5;241;43m.\u001b[39;49m\u001b[43mget_band_paths\u001b[49m\u001b[43m(\u001b[49m\u001b[43mbands\u001b[49m\u001b[43m,\u001b[49m\u001b[43m \u001b[49m\u001b[43mpixel_size\u001b[49m\u001b[43m,\u001b[49m\u001b[43m \u001b[49m\u001b[38;5;241;43m*\u001b[39;49m\u001b[38;5;241;43m*\u001b[39;49m\u001b[43mkwargs\u001b[49m\u001b[43m)\u001b[49m\n\u001b[0;32m    676\u001b[0m \u001b[38;5;66;03m# Open bands and get array (resampled if needed)\u001b[39;00m\n\u001b[0;32m    677\u001b[0m band_arrays \u001b[38;5;241m=\u001b[39m {}\n",
      "File \u001b[1;32m~\\AppData\\Local\\pypoetry\\Cache\\virtualenvs\\earth-exploration-QkpwS6pU-py3.12\\Lib\\site-packages\\eoreader\\products\\sar\\sar_product.py:487\u001b[0m, in \u001b[0;36mSarProduct.get_band_paths\u001b[1;34m(self, band_list, pixel_size, **kwargs)\u001b[0m\n\u001b[0;32m    485\u001b[0m                 band_paths[band] \u001b[38;5;241m=\u001b[39m \u001b[38;5;28mself\u001b[39m\u001b[38;5;241m.\u001b[39m_despeckle_sar(speckle_band, \u001b[38;5;241m*\u001b[39m\u001b[38;5;241m*\u001b[39mkwargs)\n\u001b[0;32m    486\u001b[0m             \u001b[38;5;28;01melse\u001b[39;00m:\n\u001b[1;32m--> 487\u001b[0m                 band_paths[band] \u001b[38;5;241m=\u001b[39m \u001b[38;5;28;43mself\u001b[39;49m\u001b[38;5;241;43m.\u001b[39;49m\u001b[43m_pre_process_sar\u001b[49m\u001b[43m(\u001b[49m\n\u001b[0;32m    488\u001b[0m \u001b[43m                    \u001b[49m\u001b[43mband\u001b[49m\u001b[43m,\u001b[49m\u001b[43m \u001b[49m\u001b[43mpixel_size\u001b[49m\u001b[43m,\u001b[49m\u001b[43m \u001b[49m\u001b[38;5;241;43m*\u001b[39;49m\u001b[38;5;241;43m*\u001b[39;49m\u001b[43mkwargs\u001b[49m\n\u001b[0;32m    489\u001b[0m \u001b[43m                \u001b[49m\u001b[43m)\u001b[49m\n\u001b[0;32m    491\u001b[0m \u001b[38;5;28;01mreturn\u001b[39;00m band_paths\n",
      "File \u001b[1;32m~\\AppData\\Local\\pypoetry\\Cache\\virtualenvs\\earth-exploration-QkpwS6pU-py3.12\\Lib\\site-packages\\eoreader\\products\\sar\\sar_product.py:810\u001b[0m, in \u001b[0;36mSarProduct._pre_process_sar\u001b[1;34m(self, band, pixel_size, **kwargs)\u001b[0m\n\u001b[0;32m    800\u001b[0m         prod_path \u001b[38;5;241m=\u001b[39m \u001b[38;5;28mself\u001b[39m\u001b[38;5;241m.\u001b[39mpath\u001b[38;5;241m.\u001b[39mjoinpath(\u001b[38;5;28mself\u001b[39m\u001b[38;5;241m.\u001b[39msnap_filename)\n\u001b[0;32m    802\u001b[0m \u001b[38;5;66;03m# Create SNAP CLI\u001b[39;00m\n\u001b[0;32m    803\u001b[0m cmd_list \u001b[38;5;241m=\u001b[39m snap\u001b[38;5;241m.\u001b[39mget_gpt_cli(\n\u001b[0;32m    804\u001b[0m     pp_graph,\n\u001b[0;32m    805\u001b[0m     [\n\u001b[0;32m    806\u001b[0m         \u001b[38;5;124mf\u001b[39m\u001b[38;5;124m\"\u001b[39m\u001b[38;5;124m-Pfile=\u001b[39m\u001b[38;5;132;01m{\u001b[39;00mstrings\u001b[38;5;241m.\u001b[39mto_cmd_string(prod_path)\u001b[38;5;132;01m}\u001b[39;00m\u001b[38;5;124m\"\u001b[39m,\n\u001b[0;32m    807\u001b[0m         \u001b[38;5;124mf\u001b[39m\u001b[38;5;124m\"\u001b[39m\u001b[38;5;124m-Pcalib_pola=\u001b[39m\u001b[38;5;132;01m{\u001b[39;00mstrings\u001b[38;5;241m.\u001b[39mto_cmd_string(band\u001b[38;5;241m.\u001b[39mname)\u001b[38;5;132;01m}\u001b[39;00m\u001b[38;5;124m\"\u001b[39m,\n\u001b[0;32m    808\u001b[0m         \u001b[38;5;124mf\u001b[39m\u001b[38;5;124m\"\u001b[39m\u001b[38;5;124m-Pdem_name=\u001b[39m\u001b[38;5;132;01m{\u001b[39;00mstrings\u001b[38;5;241m.\u001b[39mto_cmd_string(dem_name\u001b[38;5;241m.\u001b[39mvalue)\u001b[38;5;132;01m}\u001b[39;00m\u001b[38;5;124m\"\u001b[39m,\n\u001b[0;32m    809\u001b[0m         \u001b[38;5;124mf\u001b[39m\u001b[38;5;124m\"\u001b[39m\u001b[38;5;124m-Pdem_path=\u001b[39m\u001b[38;5;132;01m{\u001b[39;00mstrings\u001b[38;5;241m.\u001b[39mto_cmd_string(dem_path)\u001b[38;5;132;01m}\u001b[39;00m\u001b[38;5;124m\"\u001b[39m,\n\u001b[1;32m--> 810\u001b[0m         \u001b[38;5;124mf\u001b[39m\u001b[38;5;124m\"\u001b[39m\u001b[38;5;124m-Pcrs=\u001b[39m\u001b[38;5;132;01m{\u001b[39;00m\u001b[38;5;28;43mself\u001b[39;49m\u001b[38;5;241;43m.\u001b[39;49m\u001b[43mcrs\u001b[49m\u001b[43m(\u001b[49m\u001b[43m)\u001b[49m\u001b[38;5;132;01m}\u001b[39;00m\u001b[38;5;124m\"\u001b[39m,\n\u001b[0;32m    811\u001b[0m         \u001b[38;5;124mf\u001b[39m\u001b[38;5;124m\"\u001b[39m\u001b[38;5;124m-Pres_m=\u001b[39m\u001b[38;5;132;01m{\u001b[39;00mpixel_size\u001b[38;5;132;01m}\u001b[39;00m\u001b[38;5;124m\"\u001b[39m,\n\u001b[0;32m    812\u001b[0m         \u001b[38;5;124mf\u001b[39m\u001b[38;5;124m\"\u001b[39m\u001b[38;5;124m-Pres_deg=\u001b[39m\u001b[38;5;132;01m{\u001b[39;00mres_deg\u001b[38;5;132;01m}\u001b[39;00m\u001b[38;5;124m\"\u001b[39m,\n\u001b[0;32m    813\u001b[0m         \u001b[38;5;124mf\u001b[39m\u001b[38;5;124m\"\u001b[39m\u001b[38;5;124m-Pout=\u001b[39m\u001b[38;5;132;01m{\u001b[39;00mstrings\u001b[38;5;241m.\u001b[39mto_cmd_string(pp_dim)\u001b[38;5;132;01m}\u001b[39;00m\u001b[38;5;124m\"\u001b[39m,\n\u001b[0;32m    814\u001b[0m     ],\n\u001b[0;32m    815\u001b[0m     display_snap_opt\u001b[38;5;241m=\u001b[39mLOGGER\u001b[38;5;241m.\u001b[39mlevel \u001b[38;5;241m==\u001b[39m logging\u001b[38;5;241m.\u001b[39mDEBUG,\n\u001b[0;32m    816\u001b[0m )\n\u001b[0;32m    818\u001b[0m \u001b[38;5;66;03m# Pre-process SAR images according to the given graph\u001b[39;00m\n\u001b[0;32m    819\u001b[0m LOGGER\u001b[38;5;241m.\u001b[39mdebug(\u001b[38;5;124m\"\u001b[39m\u001b[38;5;124mPre-process SAR image\u001b[39m\u001b[38;5;124m\"\u001b[39m)\n",
      "File \u001b[1;32m~\\AppData\\Local\\pypoetry\\Cache\\virtualenvs\\earth-exploration-QkpwS6pU-py3.12\\Lib\\site-packages\\methodtools.py:72\u001b[0m, in \u001b[0;36m_LruCacheWire.__call__\u001b[1;34m(self, *args, **kwargs)\u001b[0m\n\u001b[0;32m     70\u001b[0m \u001b[38;5;28;01mdef\u001b[39;00m \u001b[38;5;21m__call__\u001b[39m(\u001b[38;5;28mself\u001b[39m, \u001b[38;5;241m*\u001b[39margs, \u001b[38;5;241m*\u001b[39m\u001b[38;5;241m*\u001b[39mkwargs):\n\u001b[0;32m     71\u001b[0m     \u001b[38;5;66;03m# descriptor detection support - never called\u001b[39;00m\n\u001b[1;32m---> 72\u001b[0m     \u001b[38;5;28;01mreturn\u001b[39;00m \u001b[38;5;28;43mself\u001b[39;49m\u001b[38;5;241;43m.\u001b[39;49m\u001b[38;5;21;43m__call__\u001b[39;49m\u001b[43m(\u001b[49m\u001b[38;5;241;43m*\u001b[39;49m\u001b[43margs\u001b[49m\u001b[43m,\u001b[49m\u001b[43m \u001b[49m\u001b[38;5;241;43m*\u001b[39;49m\u001b[38;5;241;43m*\u001b[39;49m\u001b[43mkwargs\u001b[49m\u001b[43m)\u001b[49m\n",
      "File \u001b[1;32m~\\AppData\\Local\\pypoetry\\Cache\\virtualenvs\\earth-exploration-QkpwS6pU-py3.12\\Lib\\site-packages\\eoreader\\__init__.py:34\u001b[0m, in \u001b[0;36mcache.<locals>.wrapper\u001b[1;34m(*args, **kwargs)\u001b[0m\n\u001b[0;32m     31\u001b[0m \u001b[38;5;129m@lru_cache\u001b[39m()\n\u001b[0;32m     32\u001b[0m \u001b[38;5;129m@wraps\u001b[39m(func)\n\u001b[0;32m     33\u001b[0m \u001b[38;5;28;01mdef\u001b[39;00m \u001b[38;5;21mwrapper\u001b[39m(\u001b[38;5;241m*\u001b[39margs, \u001b[38;5;241m*\u001b[39m\u001b[38;5;241m*\u001b[39mkwargs):\n\u001b[1;32m---> 34\u001b[0m     \u001b[38;5;28;01mreturn\u001b[39;00m \u001b[43mfunc\u001b[49m\u001b[43m(\u001b[49m\u001b[38;5;241;43m*\u001b[39;49m\u001b[43margs\u001b[49m\u001b[43m,\u001b[49m\u001b[43m \u001b[49m\u001b[38;5;241;43m*\u001b[39;49m\u001b[38;5;241;43m*\u001b[39;49m\u001b[43mkwargs\u001b[49m\u001b[43m)\u001b[49m\n",
      "File \u001b[1;32m~\\AppData\\Local\\pypoetry\\Cache\\virtualenvs\\earth-exploration-QkpwS6pU-py3.12\\Lib\\site-packages\\eoreader\\products\\sar\\sar_product.py:416\u001b[0m, in \u001b[0;36mSarProduct.crs\u001b[1;34m(self)\u001b[0m\n\u001b[0;32m    401\u001b[0m \u001b[38;5;250m\u001b[39m\u001b[38;5;124;03m\"\"\"\u001b[39;00m\n\u001b[0;32m    402\u001b[0m \u001b[38;5;124;03mGet UTM projection\u001b[39;00m\n\u001b[0;32m    403\u001b[0m \n\u001b[1;32m   (...)\u001b[0m\n\u001b[0;32m    413\u001b[0m \u001b[38;5;124;03m    crs.CRS: CRS object\u001b[39;00m\n\u001b[0;32m    414\u001b[0m \u001b[38;5;124;03m\"\"\"\u001b[39;00m\n\u001b[0;32m    415\u001b[0m \u001b[38;5;66;03m# Get WGS84 extent\u001b[39;00m\n\u001b[1;32m--> 416\u001b[0m extent_wgs84 \u001b[38;5;241m=\u001b[39m \u001b[38;5;28;43mself\u001b[39;49m\u001b[38;5;241;43m.\u001b[39;49m\u001b[43mwgs84_extent\u001b[49m\u001b[43m(\u001b[49m\u001b[43m)\u001b[49m\n\u001b[0;32m    418\u001b[0m \u001b[38;5;66;03m# Estimate UTM from extent\u001b[39;00m\n\u001b[0;32m    419\u001b[0m \u001b[38;5;28;01mreturn\u001b[39;00m extent_wgs84\u001b[38;5;241m.\u001b[39mestimate_utm_crs()\n",
      "File \u001b[1;32m~\\AppData\\Local\\pypoetry\\Cache\\virtualenvs\\earth-exploration-QkpwS6pU-py3.12\\Lib\\site-packages\\methodtools.py:72\u001b[0m, in \u001b[0;36m_LruCacheWire.__call__\u001b[1;34m(self, *args, **kwargs)\u001b[0m\n\u001b[0;32m     70\u001b[0m \u001b[38;5;28;01mdef\u001b[39;00m \u001b[38;5;21m__call__\u001b[39m(\u001b[38;5;28mself\u001b[39m, \u001b[38;5;241m*\u001b[39margs, \u001b[38;5;241m*\u001b[39m\u001b[38;5;241m*\u001b[39mkwargs):\n\u001b[0;32m     71\u001b[0m     \u001b[38;5;66;03m# descriptor detection support - never called\u001b[39;00m\n\u001b[1;32m---> 72\u001b[0m     \u001b[38;5;28;01mreturn\u001b[39;00m \u001b[38;5;28;43mself\u001b[39;49m\u001b[38;5;241;43m.\u001b[39;49m\u001b[38;5;21;43m__call__\u001b[39;49m\u001b[43m(\u001b[49m\u001b[38;5;241;43m*\u001b[39;49m\u001b[43margs\u001b[49m\u001b[43m,\u001b[49m\u001b[43m \u001b[49m\u001b[38;5;241;43m*\u001b[39;49m\u001b[38;5;241;43m*\u001b[39;49m\u001b[43mkwargs\u001b[49m\u001b[43m)\u001b[49m\n",
      "File \u001b[1;32m~\\AppData\\Local\\pypoetry\\Cache\\virtualenvs\\earth-exploration-QkpwS6pU-py3.12\\Lib\\site-packages\\eoreader\\__init__.py:34\u001b[0m, in \u001b[0;36mcache.<locals>.wrapper\u001b[1;34m(*args, **kwargs)\u001b[0m\n\u001b[0;32m     31\u001b[0m \u001b[38;5;129m@lru_cache\u001b[39m()\n\u001b[0;32m     32\u001b[0m \u001b[38;5;129m@wraps\u001b[39m(func)\n\u001b[0;32m     33\u001b[0m \u001b[38;5;28;01mdef\u001b[39;00m \u001b[38;5;21mwrapper\u001b[39m(\u001b[38;5;241m*\u001b[39margs, \u001b[38;5;241m*\u001b[39m\u001b[38;5;241m*\u001b[39mkwargs):\n\u001b[1;32m---> 34\u001b[0m     \u001b[38;5;28;01mreturn\u001b[39;00m \u001b[43mfunc\u001b[49m\u001b[43m(\u001b[49m\u001b[38;5;241;43m*\u001b[39;49m\u001b[43margs\u001b[49m\u001b[43m,\u001b[49m\u001b[43m \u001b[49m\u001b[38;5;241;43m*\u001b[39;49m\u001b[38;5;241;43m*\u001b[39;49m\u001b[43mkwargs\u001b[49m\u001b[43m)\u001b[49m\n",
      "File \u001b[1;32m~\\AppData\\Local\\pypoetry\\Cache\\virtualenvs\\earth-exploration-QkpwS6pU-py3.12\\Lib\\site-packages\\eoreader\\products\\sar\\s1_product.py:268\u001b[0m, in \u001b[0;36mS1Product.wgs84_extent\u001b[1;34m(self)\u001b[0m\n\u001b[0;32m    263\u001b[0m         \u001b[38;5;28;01mraise\u001b[39;00m InvalidProductError(\n\u001b[0;32m    264\u001b[0m             \u001b[38;5;124mf\u001b[39m\u001b[38;5;124m\"\u001b[39m\u001b[38;5;124mCannot determine the WGS84 extent of \u001b[39m\u001b[38;5;132;01m{\u001b[39;00m\u001b[38;5;28mself\u001b[39m\u001b[38;5;241m.\u001b[39mname\u001b[38;5;132;01m}\u001b[39;00m\u001b[38;5;124m\"\u001b[39m\n\u001b[0;32m    265\u001b[0m         )\n\u001b[0;32m    267\u001b[0m \u001b[38;5;28;01mexcept\u001b[39;00m \u001b[38;5;167;01mException\u001b[39;00m \u001b[38;5;28;01mas\u001b[39;00m ex:\n\u001b[1;32m--> 268\u001b[0m     \u001b[38;5;28;01mraise\u001b[39;00m InvalidProductError(ex) \u001b[38;5;28;01mfrom\u001b[39;00m \u001b[38;5;21;01mex\u001b[39;00m\n\u001b[0;32m    270\u001b[0m \u001b[38;5;28;01mreturn\u001b[39;00m extent_wgs84\n",
      "\u001b[1;31mInvalidProductError\u001b[0m: Cannot determine the WGS84 extent of S1A_IW_SLC__1SDV_20180606T141441_20180606T141508_022237_0267EB_EC03"
     ]
    }
   ],
   "source": [
    "vh_band = prod.load(VH)[VH]\n",
    "vv_band = prod.load(VV)[VV]"
   ]
  },
  {
   "cell_type": "code",
   "execution_count": 12,
   "id": "2817b737-ea01-4833-a241-2f8056229e54",
   "metadata": {},
   "outputs": [
    {
     "ename": "NameError",
     "evalue": "name 'vh_band' is not defined",
     "output_type": "error",
     "traceback": [
      "\u001b[1;31m---------------------------------------------------------------------------\u001b[0m",
      "\u001b[1;31mNameError\u001b[0m                                 Traceback (most recent call last)",
      "Cell \u001b[1;32mIn[12], line 1\u001b[0m\n\u001b[1;32m----> 1\u001b[0m \u001b[43mvh_band\u001b[49m\u001b[38;5;241m.\u001b[39mplot()\n",
      "\u001b[1;31mNameError\u001b[0m: name 'vh_band' is not defined"
     ]
    }
   ],
   "source": [
    "vh_band.plot()"
   ]
  },
  {
   "cell_type": "code",
   "execution_count": null,
   "id": "7804cd08-d8fb-4774-b5b5-aec3fb627a90",
   "metadata": {},
   "outputs": [],
   "source": []
  }
 ],
 "metadata": {
  "kernelspec": {
   "display_name": "Python 3 (ipykernel)",
   "language": "python",
   "name": "python3"
  },
  "language_info": {
   "codemirror_mode": {
    "name": "ipython",
    "version": 3
   },
   "file_extension": ".py",
   "mimetype": "text/x-python",
   "name": "python",
   "nbconvert_exporter": "python",
   "pygments_lexer": "ipython3",
   "version": "3.12.4"
  }
 },
 "nbformat": 4,
 "nbformat_minor": 5
}
