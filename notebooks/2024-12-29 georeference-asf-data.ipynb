{
 "cells": [
  {
   "cell_type": "markdown",
   "id": "1e716536-4dca-4918-93b7-efd1a0418c08",
   "metadata": {},
   "source": [
    "# Working notebook for exploration and testing"
   ]
  },
  {
   "cell_type": "code",
   "execution_count": 8,
   "id": "0ba1d796-084d-41f5-8d10-14fefc5d6f72",
   "metadata": {},
   "outputs": [],
   "source": [
    "import asf_search as asf\n",
    "import cartopy.crs as ccrs\n",
    "import cartopy.feature as cfeature\n",
    "import folium\n",
    "import glob\n",
    "import matplotlib.pyplot as plt\n",
    "import numpy as np\n",
    "import os\n",
    "from pathlib import Path\n",
    "import rasterio\n",
    "from scipy.ndimage import zoom\n",
    "from scipy.interpolate import griddata, interpn\n",
    "import xml.etree.ElementTree as ET\n",
    "import zipfile\n",
    "\n",
    "from asf_analysis.asf_data import ASFDataScene, ASFDataFile"
   ]
  },
  {
   "cell_type": "code",
   "execution_count": 2,
   "id": "3ebf78e2-2f1e-49e7-a0d8-14923e281e02",
   "metadata": {},
   "outputs": [],
   "source": [
    "# geo_results[0].download(path=\"../data/sentinel-1\", session=session)"
   ]
  },
  {
   "cell_type": "code",
   "execution_count": 1,
   "id": "1b9b2107-9617-475d-bd6c-7369b3cc0d19",
   "metadata": {},
   "outputs": [],
   "source": [
    "from rasterio.transform import GroundControlPoint, GCPTransformer, from_bounds, Affine, from_gcps\n",
    "from rasterio.warp import calculate_default_transform, reproject, Resampling"
   ]
  },
  {
   "cell_type": "code",
   "execution_count": 3,
   "id": "37ab4ef5-c457-45ae-b9f0-1128fda8ca25",
   "metadata": {},
   "outputs": [],
   "source": [
    "# safe_path = glob.glob(\"../data/sentinel-1/*.SAFE\")\n",
    "# print(len(safe_path))\n",
    "# safe_p = Path(safe_path[0])\n",
    "# print(safe_p.stem)\n",
    "# print(safe_p.name)"
   ]
  },
  {
   "cell_type": "code",
   "execution_count": 4,
   "id": "c2ace0e2-52ee-4cd1-8fd1-f6682d105ea7",
   "metadata": {},
   "outputs": [],
   "source": [
    "asf_data_filenames = glob.glob(\"../data/sentinel-1/*.SAFE/measurement/*.tiff\")\n",
    "asf_file = asf_data_filenames[0]"
   ]
  },
  {
   "cell_type": "code",
   "execution_count": 5,
   "id": "70cd7f94-8eee-469b-b853-4ad1bb68c1fe",
   "metadata": {},
   "outputs": [],
   "source": [
    "dataset = rasterio.open(asf_file)"
   ]
  },
  {
   "cell_type": "code",
   "execution_count": 6,
   "id": "ef293e44-b548-4050-9a33-303822274dbb",
   "metadata": {},
   "outputs": [
    {
     "name": "stdout",
     "output_type": "stream",
     "text": [
      "../data/sentinel-1\\S1A_IW_SLC__1SDV_20180606T141441_20180606T141508_022237_0267EB_EC03.SAFE\\measurement\\s1a-iw1-slc-vh-20180606t141443-20180606t141508-022237-0267eb-001.tiff\n",
      "r\n",
      "False\n",
      "1\n",
      "21198\n",
      "13473\n",
      "BoundingBox(left=0.0, bottom=13473.0, right=21198.0, top=0.0)\n",
      "| 1.00, 0.00, 0.00|\n",
      "| 0.00, 1.00, 0.00|\n",
      "| 0.00, 0.00, 1.00|\n",
      "(1,)\n",
      "(1500, 500)\n",
      "None\n",
      "complex64\n",
      "(13473, 21198)\n"
     ]
    }
   ],
   "source": [
    "print(dataset.name)\n",
    "print(dataset.mode)\n",
    "print(dataset.closed)\n",
    "print(dataset.count)\n",
    "print(dataset.width)\n",
    "print(dataset.height)\n",
    "print(dataset.bounds)\n",
    "print(dataset.transform)\n",
    "print(dataset.indexes)\n",
    "print(dataset.index(500, 1500))\n",
    "print(dataset.crs)\n",
    "print(dataset.read(1).dtype)\n",
    "print(dataset.read(1).shape)"
   ]
  },
  {
   "cell_type": "code",
   "execution_count": 7,
   "id": "d0d5286e-08be-4661-87c4-85f099922728",
   "metadata": {},
   "outputs": [],
   "source": [
    "dataset.close()"
   ]
  },
  {
   "cell_type": "code",
   "execution_count": 9,
   "id": "5e68d6f3-13b8-4d97-9bae-7dff6d91fbe4",
   "metadata": {},
   "outputs": [],
   "source": [
    "asf_datafile = ASFDataFile(asf_file)"
   ]
  },
  {
   "cell_type": "code",
   "execution_count": 10,
   "id": "6d4a6cd7-0e56-4715-b9c1-13751423d9e7",
   "metadata": {},
   "outputs": [
    {
     "name": "stdout",
     "output_type": "stream",
     "text": [
      "..\\data\\sentinel-1\\S1A_IW_SLC__1SDV_20180606T141441_20180606T141508_022237_0267EB_EC03.SAFE\\annotation\\s1a-iw1-slc-vh-20180606t141443-20180606t141508-022237-0267eb-001.xml\n"
     ]
    }
   ],
   "source": [
    "print(asf_datafile.annotation_filename)"
   ]
  },
  {
   "cell_type": "code",
   "execution_count": 11,
   "id": "16410a81-6ad6-41e0-84f5-80253ff4e643",
   "metadata": {},
   "outputs": [
    {
     "name": "stdout",
     "output_type": "stream",
     "text": [
      "(210, 4)\n"
     ]
    }
   ],
   "source": [
    "print(asf_datafile.geolocation_array.shape)"
   ]
  },
  {
   "cell_type": "code",
   "execution_count": 13,
   "id": "b0aceb6b-474c-4f43-bd0f-dc6dbe816321",
   "metadata": {},
   "outputs": [],
   "source": [
    "destination_filename = Path(asf_datafile.filename).parent / \"georef\" / (asf_datafile.filestem + \"_georef_wgs84.tif\")\n",
    "if not os.path.isdir(destination_filename.parent):\n",
    "    os.mkdir(destination_filename.parent)"
   ]
  },
  {
   "cell_type": "code",
   "execution_count": 17,
   "id": "3feffea1-1953-4530-abed-1b41e5029eb3",
   "metadata": {},
   "outputs": [
    {
     "ename": "CRSError",
     "evalue": "The EPSG code is unknown. PROJ: proj_create_from_database: C:\\Program Files\\PostgreSQL\\16\\share\\contrib\\postgis-3.4\\proj\\proj.db contains DATABASE.LAYOUT.VERSION.MINOR = 2 whereas a number >= 4 is expected. It comes from another PROJ installation.",
     "output_type": "error",
     "traceback": [
      "\u001b[1;31m---------------------------------------------------------------------------\u001b[0m",
      "\u001b[1;31mCPLE_AppDefinedError\u001b[0m                      Traceback (most recent call last)",
      "File \u001b[1;32mrasterio\\\\crs.pyx:585\u001b[0m, in \u001b[0;36mrasterio.crs.CRS.from_epsg\u001b[1;34m()\u001b[0m\n",
      "File \u001b[1;32mrasterio\\\\_err.pyx:289\u001b[0m, in \u001b[0;36mrasterio._err.exc_wrap_int\u001b[1;34m()\u001b[0m\n",
      "\u001b[1;31mCPLE_AppDefinedError\u001b[0m: PROJ: proj_create_from_database: C:\\Program Files\\PostgreSQL\\16\\share\\contrib\\postgis-3.4\\proj\\proj.db contains DATABASE.LAYOUT.VERSION.MINOR = 2 whereas a number >= 4 is expected. It comes from another PROJ installation.",
      "\nDuring handling of the above exception, another exception occurred:\n",
      "\u001b[1;31mCRSError\u001b[0m                                  Traceback (most recent call last)",
      "Cell \u001b[1;32mIn[17], line 10\u001b[0m\n\u001b[0;32m      6\u001b[0m dst_crs \u001b[38;5;241m=\u001b[39m \u001b[38;5;124m\"\u001b[39m\u001b[38;5;124mEPSG:4326\u001b[39m\u001b[38;5;124m\"\u001b[39m\n\u001b[0;32m      8\u001b[0m dst_height, dst_width \u001b[38;5;241m=\u001b[39m measurement_array\u001b[38;5;241m.\u001b[39mshape\n\u001b[1;32m---> 10\u001b[0m \u001b[38;5;28;01mwith\u001b[39;00m \u001b[43mrasterio\u001b[49m\u001b[38;5;241;43m.\u001b[39;49m\u001b[43mopen\u001b[49m\u001b[43m(\u001b[49m\n\u001b[0;32m     11\u001b[0m \u001b[43m    \u001b[49m\u001b[43mdestination_filename\u001b[49m\u001b[43m,\u001b[49m\u001b[43m \u001b[49m\n\u001b[0;32m     12\u001b[0m \u001b[43m    \u001b[49m\u001b[38;5;124;43m\"\u001b[39;49m\u001b[38;5;124;43mw\u001b[39;49m\u001b[38;5;124;43m\"\u001b[39;49m\u001b[43m,\u001b[49m\n\u001b[0;32m     13\u001b[0m \u001b[43m    \u001b[49m\u001b[43mdriver\u001b[49m\u001b[38;5;241;43m=\u001b[39;49m\u001b[38;5;124;43m\"\u001b[39;49m\u001b[38;5;124;43mGTiff\u001b[39;49m\u001b[38;5;124;43m\"\u001b[39;49m\u001b[43m,\u001b[49m\n\u001b[0;32m     14\u001b[0m \u001b[43m    \u001b[49m\u001b[43mheight\u001b[49m\u001b[38;5;241;43m=\u001b[39;49m\u001b[43mdst_height\u001b[49m\u001b[43m,\u001b[49m\n\u001b[0;32m     15\u001b[0m \u001b[43m    \u001b[49m\u001b[43mwidth\u001b[49m\u001b[38;5;241;43m=\u001b[39;49m\u001b[43mdst_width\u001b[49m\u001b[43m,\u001b[49m\n\u001b[0;32m     16\u001b[0m \u001b[43m    \u001b[49m\u001b[43mcount\u001b[49m\u001b[38;5;241;43m=\u001b[39;49m\u001b[38;5;241;43m1\u001b[39;49m\u001b[43m,\u001b[49m\n\u001b[0;32m     17\u001b[0m \u001b[43m    \u001b[49m\u001b[43mdtype\u001b[49m\u001b[38;5;241;43m=\u001b[39;49m\u001b[43mmeasurement_array\u001b[49m\u001b[38;5;241;43m.\u001b[39;49m\u001b[43mdtype\u001b[49m\u001b[43m,\u001b[49m\n\u001b[0;32m     18\u001b[0m \u001b[43m    \u001b[49m\u001b[43mcrs\u001b[49m\u001b[38;5;241;43m=\u001b[39;49m\u001b[43mdst_crs\u001b[49m\u001b[43m,\u001b[49m\n\u001b[0;32m     19\u001b[0m \u001b[43m    \u001b[49m\u001b[43mtransform\u001b[49m\u001b[38;5;241;43m=\u001b[39;49m\u001b[43mdst_transform\u001b[49m\u001b[43m,\u001b[49m\n\u001b[0;32m     20\u001b[0m \u001b[43m\u001b[49m\u001b[43m)\u001b[49m \u001b[38;5;28;01mas\u001b[39;00m dst_file:\n\u001b[0;32m     21\u001b[0m     dst_file\u001b[38;5;241m.\u001b[39mwrite(measurement_array, \u001b[38;5;241m1\u001b[39m)\n",
      "File \u001b[1;32m~\\AppData\\Local\\pypoetry\\Cache\\virtualenvs\\earth-exploration-QkpwS6pU-py3.12\\Lib\\site-packages\\rasterio\\env.py:463\u001b[0m, in \u001b[0;36mensure_env_with_credentials.<locals>.wrapper\u001b[1;34m(*args, **kwds)\u001b[0m\n\u001b[0;32m    460\u001b[0m     session \u001b[38;5;241m=\u001b[39m DummySession()\n\u001b[0;32m    462\u001b[0m \u001b[38;5;28;01mwith\u001b[39;00m env_ctor(session\u001b[38;5;241m=\u001b[39msession):\n\u001b[1;32m--> 463\u001b[0m     \u001b[38;5;28;01mreturn\u001b[39;00m \u001b[43mf\u001b[49m\u001b[43m(\u001b[49m\u001b[38;5;241;43m*\u001b[39;49m\u001b[43margs\u001b[49m\u001b[43m,\u001b[49m\u001b[43m \u001b[49m\u001b[38;5;241;43m*\u001b[39;49m\u001b[38;5;241;43m*\u001b[39;49m\u001b[43mkwds\u001b[49m\u001b[43m)\u001b[49m\n",
      "File \u001b[1;32m~\\AppData\\Local\\pypoetry\\Cache\\virtualenvs\\earth-exploration-QkpwS6pU-py3.12\\Lib\\site-packages\\rasterio\\__init__.py:377\u001b[0m, in \u001b[0;36mopen\u001b[1;34m(fp, mode, driver, width, height, count, crs, transform, dtype, nodata, sharing, opener, **kwargs)\u001b[0m\n\u001b[0;32m    375\u001b[0m writer \u001b[38;5;241m=\u001b[39m get_writer_for_driver(driver)\n\u001b[0;32m    376\u001b[0m \u001b[38;5;28;01mif\u001b[39;00m writer \u001b[38;5;129;01mis\u001b[39;00m \u001b[38;5;129;01mnot\u001b[39;00m \u001b[38;5;28;01mNone\u001b[39;00m:\n\u001b[1;32m--> 377\u001b[0m     dataset \u001b[38;5;241m=\u001b[39m \u001b[43mwriter\u001b[49m\u001b[43m(\u001b[49m\n\u001b[0;32m    378\u001b[0m \u001b[43m        \u001b[49m\u001b[43mpath\u001b[49m\u001b[43m,\u001b[49m\n\u001b[0;32m    379\u001b[0m \u001b[43m        \u001b[49m\u001b[43mmode\u001b[49m\u001b[43m,\u001b[49m\n\u001b[0;32m    380\u001b[0m \u001b[43m        \u001b[49m\u001b[43mdriver\u001b[49m\u001b[38;5;241;43m=\u001b[39;49m\u001b[43mdriver\u001b[49m\u001b[43m,\u001b[49m\n\u001b[0;32m    381\u001b[0m \u001b[43m        \u001b[49m\u001b[43mwidth\u001b[49m\u001b[38;5;241;43m=\u001b[39;49m\u001b[43mwidth\u001b[49m\u001b[43m,\u001b[49m\n\u001b[0;32m    382\u001b[0m \u001b[43m        \u001b[49m\u001b[43mheight\u001b[49m\u001b[38;5;241;43m=\u001b[39;49m\u001b[43mheight\u001b[49m\u001b[43m,\u001b[49m\n\u001b[0;32m    383\u001b[0m \u001b[43m        \u001b[49m\u001b[43mcount\u001b[49m\u001b[38;5;241;43m=\u001b[39;49m\u001b[43mcount\u001b[49m\u001b[43m,\u001b[49m\n\u001b[0;32m    384\u001b[0m \u001b[43m        \u001b[49m\u001b[43mcrs\u001b[49m\u001b[38;5;241;43m=\u001b[39;49m\u001b[43mcrs\u001b[49m\u001b[43m,\u001b[49m\n\u001b[0;32m    385\u001b[0m \u001b[43m        \u001b[49m\u001b[43mtransform\u001b[49m\u001b[38;5;241;43m=\u001b[39;49m\u001b[43mtransform\u001b[49m\u001b[43m,\u001b[49m\n\u001b[0;32m    386\u001b[0m \u001b[43m        \u001b[49m\u001b[43mdtype\u001b[49m\u001b[38;5;241;43m=\u001b[39;49m\u001b[43mdtype\u001b[49m\u001b[43m,\u001b[49m\n\u001b[0;32m    387\u001b[0m \u001b[43m        \u001b[49m\u001b[43mnodata\u001b[49m\u001b[38;5;241;43m=\u001b[39;49m\u001b[43mnodata\u001b[49m\u001b[43m,\u001b[49m\n\u001b[0;32m    388\u001b[0m \u001b[43m        \u001b[49m\u001b[43msharing\u001b[49m\u001b[38;5;241;43m=\u001b[39;49m\u001b[43msharing\u001b[49m\u001b[43m,\u001b[49m\n\u001b[0;32m    389\u001b[0m \u001b[43m        \u001b[49m\u001b[38;5;241;43m*\u001b[39;49m\u001b[38;5;241;43m*\u001b[39;49m\u001b[43mkwargs\u001b[49m\n\u001b[0;32m    390\u001b[0m \u001b[43m    \u001b[49m\u001b[43m)\u001b[49m\n\u001b[0;32m    391\u001b[0m \u001b[38;5;28;01melse\u001b[39;00m:\n\u001b[0;32m    392\u001b[0m     \u001b[38;5;28;01mraise\u001b[39;00m DriverCapabilityError(\n\u001b[0;32m    393\u001b[0m         \u001b[38;5;124m\"\u001b[39m\u001b[38;5;124mWriter does not exist for driver: \u001b[39m\u001b[38;5;132;01m%s\u001b[39;00m\u001b[38;5;124m\"\u001b[39m \u001b[38;5;241m%\u001b[39m \u001b[38;5;28mstr\u001b[39m(driver)\n\u001b[0;32m    394\u001b[0m     )\n",
      "File \u001b[1;32mrasterio\\\\_io.pyx:1612\u001b[0m, in \u001b[0;36mrasterio._io.DatasetWriterBase.__init__\u001b[1;34m()\u001b[0m\n",
      "File \u001b[1;32mrasterio\\\\_io.pyx:1641\u001b[0m, in \u001b[0;36mrasterio._io.DatasetWriterBase._set_crs\u001b[1;34m()\u001b[0m\n",
      "File \u001b[1;32mrasterio\\\\crs.pyx:783\u001b[0m, in \u001b[0;36mrasterio.crs.CRS.from_user_input\u001b[1;34m()\u001b[0m\n",
      "File \u001b[1;32mrasterio\\\\crs.pyx:845\u001b[0m, in \u001b[0;36mrasterio.crs.CRS.from_string\u001b[1;34m()\u001b[0m\n",
      "File \u001b[1;32mrasterio\\\\crs.pyx:589\u001b[0m, in \u001b[0;36mrasterio.crs.CRS.from_epsg\u001b[1;34m()\u001b[0m\n",
      "\u001b[1;31mCRSError\u001b[0m: The EPSG code is unknown. PROJ: proj_create_from_database: C:\\Program Files\\PostgreSQL\\16\\share\\contrib\\postgis-3.4\\proj\\proj.db contains DATABASE.LAYOUT.VERSION.MINOR = 2 whereas a number >= 4 is expected. It comes from another PROJ installation."
     ]
    }
   ],
   "source": [
    "with rasterio.open(asf_file, \"r\") as src_file:\n",
    "    measurement_array = src_file.read(1)\n",
    "\n",
    "    gcps = [GroundControlPoint(col=c, row=r, x=lon, y=lat) for (r, c, lat, lon) in asf_datafile.geolocation_array]\n",
    "    dst_transform = from_gcps(gcps)\n",
    "    dst_crs = \"EPSG:4326\"\n",
    "\n",
    "    dst_height, dst_width = measurement_array.shape\n",
    "    \n",
    "    with rasterio.open(\n",
    "        destination_filename, \n",
    "        \"w\",\n",
    "        driver=\"GTiff\",\n",
    "        height=dst_height,\n",
    "        width=dst_width,\n",
    "        count=1,\n",
    "        dtype=measurement_array.dtype,\n",
    "        crs=dst_crs,\n",
    "        transform=dst_transform,\n",
    "    ) as dst_file:\n",
    "        dst_file.write(measurement_array, 1)"
   ]
  },
  {
   "cell_type": "code",
   "execution_count": null,
   "id": "d8bc2543-b255-4d4b-b127-8823b5f9cc76",
   "metadata": {},
   "outputs": [],
   "source": []
  },
  {
   "cell_type": "code",
   "execution_count": null,
   "id": "ac619386-ed3f-4fec-93e4-0fac35a82a19",
   "metadata": {},
   "outputs": [],
   "source": []
  },
  {
   "cell_type": "code",
   "execution_count": null,
   "id": "9b9a5675-6801-4719-88ad-db5bec4752a5",
   "metadata": {},
   "outputs": [],
   "source": []
  },
  {
   "cell_type": "code",
   "execution_count": null,
   "id": "e4989b48-f618-44fe-8ee8-1f1d6d830a5d",
   "metadata": {},
   "outputs": [],
   "source": []
  },
  {
   "cell_type": "code",
   "execution_count": null,
   "id": "4585f383-a1a3-4fc9-99d9-30965b70fb1e",
   "metadata": {},
   "outputs": [],
   "source": []
  },
  {
   "cell_type": "code",
   "execution_count": null,
   "id": "dd099c1b-7af9-4a3d-8f31-6c3f068711ad",
   "metadata": {},
   "outputs": [],
   "source": []
  },
  {
   "cell_type": "code",
   "execution_count": null,
   "id": "7ff55c3a-9189-41d3-a041-c620c7c42778",
   "metadata": {},
   "outputs": [],
   "source": []
  },
  {
   "cell_type": "code",
   "execution_count": 5,
   "id": "e6a7afa2-3485-4a31-bdd7-be77c6b92cdf",
   "metadata": {},
   "outputs": [
    {
     "name": "stdout",
     "output_type": "stream",
     "text": [
      "_local_search_for_zipfile: safe_path = WindowsPath('../data/sentinel-1/S1A_IW_SLC__1SDV_20180606T141441_20180606T141508_022237_0267EB_EC03.SAFE')\n",
      "_local_search_for_zipfile: search_str = '..\\\\data\\\\sentinel-1\\\\S1A_IW_SLC__1SDV_20180606T141441_20180606T141508_022237_0267EB_EC03.zip'\n",
      "_local_search_for_zipfile: zips = ['..\\\\data\\\\sentinel-1\\\\S1A_IW_SLC__1SDV_20180606T141441_20180606T141508_022237_0267EB_EC03.zip']\n",
      "<asf_analysis.asf_data.ASFDataScene object at 0x00000161F7B54350>\n"
     ]
    }
   ],
   "source": [
    "asf_datascene = ASFDataScene(safe_p, extracted=True)\n",
    "print(asf_datascene)"
   ]
  },
  {
   "cell_type": "code",
   "execution_count": 9,
   "id": "c60567f3-e227-458a-8487-57b4fc0ed450",
   "metadata": {},
   "outputs": [
    {
     "name": "stdout",
     "output_type": "stream",
     "text": [
      "<asf_analysis.asf_data.ASFDataFile object at 0x00000161DB6FB8C0>\n",
      "<asf_analysis.asf_data.ASFDataFile object at 0x00000161F7B57590>\n",
      "<asf_analysis.asf_data.ASFDataFile object at 0x00000161DB737A10>\n",
      "<asf_analysis.asf_data.ASFDataFile object at 0x00000161DB7376E0>\n",
      "<asf_analysis.asf_data.ASFDataFile object at 0x00000161DB2CFFE0>\n",
      "<asf_analysis.asf_data.ASFDataFile object at 0x00000161DB7A9CA0>\n"
     ]
    }
   ],
   "source": [
    "print(*asf_datascene.asf_data_files, sep=\"\\n\")"
   ]
  },
  {
   "cell_type": "code",
   "execution_count": 12,
   "id": "5dbea3fb-695b-4cd8-b07f-7f1e85ab0d25",
   "metadata": {},
   "outputs": [
    {
     "name": "stdout",
     "output_type": "stream",
     "text": [
      "[[  41.08364918 -120.83964114]\n",
      " [  42.74025269 -121.51561604]\n",
      " [  41.23010369 -121.88101754]\n",
      " [  42.59359434 -120.4492047 ]]\n",
      "{'mission': 's1a', 'beam_mode': 'iw1', 'product_type_resolution': 'slc', 'process_level_class_polarization': 'vh', 'start_date_time': '20180606t141443', 'end_date_time': '20180606t141508', 'absolute_orbit_number': '022237', 'mission_data_take_id': '0267eb', 'product_unique_identifier': '001'}\n",
      "None\n"
     ]
    }
   ],
   "source": [
    "asf_data_file0 = asf_datascene.asf_data_files[0]\n",
    "print(asf_data_file0.geo_bounds)\n",
    "print(asf_data_file0.asf_metadata)\n",
    "print(asf_data_file0.data_array)"
   ]
  },
  {
   "cell_type": "code",
   "execution_count": 13,
   "id": "2c10fcbd-348f-4e09-bba9-dba310d4fef5",
   "metadata": {},
   "outputs": [],
   "source": [
    "asf_data_file0.load_data_array()"
   ]
  },
  {
   "cell_type": "code",
   "execution_count": 14,
   "id": "09537473-943c-4b2a-a115-cbba6b8f331b",
   "metadata": {},
   "outputs": [
    {
     "name": "stdout",
     "output_type": "stream",
     "text": [
      "(13473, 21198)\n"
     ]
    }
   ],
   "source": [
    "print(asf_data_file0.data_array.shape)"
   ]
  },
  {
   "cell_type": "code",
   "execution_count": 16,
   "id": "cf4addc1-9bc5-48c0-a0e7-3ea972d68ea5",
   "metadata": {},
   "outputs": [
    {
     "data": {
      "text/plain": [
       "'..\\\\data\\\\sentinel-1\\\\S1A_IW_SLC__1SDV_20180606T141441_20180606T141508_022237_0267EB_EC03.SAFE\\\\measurement\\\\s1a-iw1-slc-vh-20180606t141443-20180606t141508-022237-0267eb-001.tiff'"
      ]
     },
     "execution_count": 16,
     "metadata": {},
     "output_type": "execute_result"
    }
   ],
   "source": [
    "asf_data_file0.filename"
   ]
  },
  {
   "cell_type": "code",
   "execution_count": 33,
   "id": "ab925307-4a50-49f1-b589-35de4d9ace81",
   "metadata": {},
   "outputs": [],
   "source": [
    "lat, lon, data = asf_data_file0.get_geo_arrays(100, 100)"
   ]
  },
  {
   "cell_type": "code",
   "execution_count": 50,
   "id": "604f110b-aa31-4b4c-aac4-68d9e0a43828",
   "metadata": {},
   "outputs": [
    {
     "name": "stdout",
     "output_type": "stream",
     "text": [
      "42.59359434337944\n",
      "-120.4492046987991\n",
      "42.73964686349784\n",
      "-121.51105380720489\n",
      "41.092568055899335\n",
      "-120.83756716032775\n",
      "complex64\n"
     ]
    }
   ],
   "source": [
    "print(lat[0][0])\n",
    "print(lon[0][0])\n",
    "# This is the last element of asf_data_file.geo_bounds\n",
    "\n",
    "print(lat[0][-1])\n",
    "print(lon[0][-1])\n",
    "# This is the second element of asf_data_file.geo_bounds\n",
    "\n",
    "print(lat[-1][0])\n",
    "print(lon[-1][0])\n",
    "# This is the first element?\n",
    "\n",
    "print(data.dtype)"
   ]
  },
  {
   "cell_type": "code",
   "execution_count": 35,
   "id": "27d52032-d033-4a76-976d-4e6a3ce192b2",
   "metadata": {},
   "outputs": [],
   "source": [
    "gb00 = asf_data_file0.geo_bounds[3]  # lat, long\n",
    "gcp_00 = GroundControlPoint(row=0, col=0, x=gb00[1], y=gb00[0])\n",
    "\n",
    "gb01 = asf_data_file0.geo_bounds[1]\n",
    "gcp_01 = GroundControlPoint(row=13472, col=0, x=gb01[1], y=gb01[0])\n",
    "\n",
    "gb10 = asf_data_file0.geo_bounds[0]\n",
    "gcp_10 = GroundControlPoint(row=0, col=21197, x=gb10[1], y=gb10[0])\n",
    "\n",
    "gb11 = asf_data_file0.geo_bounds[2]\n",
    "gcp_11 = GroundControlPoint(row=13472, col=21197, x=gb11[1], y=gb11[0])"
   ]
  },
  {
   "cell_type": "code",
   "execution_count": 36,
   "id": "54e96720-6f34-48a3-a42a-47da3b7970aa",
   "metadata": {},
   "outputs": [],
   "source": [
    "transformer = GCPTransformer([gcp_00, gcp_01, gcp_10, gcp_11])"
   ]
  },
  {
   "cell_type": "code",
   "execution_count": 41,
   "id": "2c49d090-7594-4c9c-ae2b-7a690bdde8f9",
   "metadata": {},
   "outputs": [
    {
     "name": "stdout",
     "output_type": "stream",
     "text": [
      "(np.float64(-120.45551146162018), np.float64(42.593615123052196))\n",
      "(np.int32(16565), np.int32(5528))\n"
     ]
    }
   ],
   "source": [
    "print(transformer.xy(0, 0))\n",
    "print(transformer.rowcol(-121.85, 42.38))"
   ]
  },
  {
   "cell_type": "code",
   "execution_count": 64,
   "id": "ea3d8d4e-501d-491f-889e-dfe16037146e",
   "metadata": {},
   "outputs": [],
   "source": [
    "gcp_transform = rasterio.transform.from_gcps([gcp_00, gcp_01, gcp_10, gcp_11])"
   ]
  },
  {
   "cell_type": "code",
   "execution_count": null,
   "id": "75434170-acc6-4c8b-aaca-77940ef3f048",
   "metadata": {},
   "outputs": [],
   "source": []
  },
  {
   "cell_type": "code",
   "execution_count": null,
   "id": "3adf31cb-32ef-46c2-8b4f-8f96ebb129ac",
   "metadata": {},
   "outputs": [],
   "source": []
  },
  {
   "cell_type": "code",
   "execution_count": 42,
   "id": "0944b749-61ac-4c09-81c9-a5a0b5c97987",
   "metadata": {},
   "outputs": [],
   "source": [
    "os.mkdir(Path(safe_p) / \"georef\")"
   ]
  },
  {
   "cell_type": "code",
   "execution_count": 72,
   "id": "8688301f-910a-40a2-9c24-80c09ccb10e9",
   "metadata": {},
   "outputs": [
    {
     "name": "stdout",
     "output_type": "stream",
     "text": [
      "..\\data\\sentinel-1\\S1A_IW_SLC__1SDV_20180606T141441_20180606T141508_022237_0267EB_EC03.SAFE\\georef\\s1a-iw1-slc-vh-20180606t141443-20180606t141508-022237-0267eb-001_intensity.tiff\n"
     ]
    }
   ],
   "source": [
    "out_file = Path(safe_p) / \"georef\" / (asf_data_file0.filestem + \"_intensity.tiff\")\n",
    "print(out_file)"
   ]
  },
  {
   "cell_type": "code",
   "execution_count": 53,
   "id": "8ad72fe1-68ed-4f36-93c3-e122b74bfefd",
   "metadata": {},
   "outputs": [],
   "source": [
    "geo_bounds = asf_data_file0.geo_bounds\n",
    "transform = from_bounds(np.min(geo_bounds[:, 1]), np.min(geo_bounds[:, 0]), np.max(geo_bounds[:, 1]), np.max(geo_bounds[:, 0]), asf_data_file0.data_array.shape[1], asf_data_file0.data_array.shape[0])"
   ]
  },
  {
   "cell_type": "code",
   "execution_count": null,
   "id": "74f3ad17-10f3-4c1f-a1c6-88ccbbcaf23b",
   "metadata": {},
   "outputs": [],
   "source": []
  },
  {
   "cell_type": "code",
   "execution_count": 73,
   "id": "64cf394e-1b0a-4773-976d-ac995baa02a4",
   "metadata": {},
   "outputs": [],
   "source": [
    "intensity = np.abs(asf_data_file0.data_array) ** 2\n",
    "phase = np.angle(asf_data_file0.data_array)"
   ]
  },
  {
   "cell_type": "code",
   "execution_count": 74,
   "id": "35bdddb8-647a-42c6-a68a-ab7cc918f939",
   "metadata": {},
   "outputs": [
    {
     "name": "stdout",
     "output_type": "stream",
     "text": [
      "float32\n"
     ]
    }
   ],
   "source": [
    "print(intensity.dtype)"
   ]
  },
  {
   "cell_type": "code",
   "execution_count": 75,
   "id": "2fdbadba-e894-449c-b856-a18042bfe9ba",
   "metadata": {},
   "outputs": [],
   "source": [
    "with rasterio.open(\n",
    "    out_file,\n",
    "    \"w\",\n",
    "    driver=\"GTiff\",\n",
    "    height=asf_data_file0.data_array.shape[0],\n",
    "    width=asf_data_file0.data_array.shape[1],\n",
    "    count=1,\n",
    "    dtype=asf_data_file0.data_array.dtype,\n",
    "    crs=\"EPSG:4326\",\n",
    "    # transform=transformer,\n",
    "    transform=gcp_transform,\n",
    ") as dst:\n",
    "    dst.write(intensity, 1)"
   ]
  },
  {
   "cell_type": "code",
   "execution_count": null,
   "id": "f8f911e4-abea-469d-9156-1c8b8ce9781b",
   "metadata": {},
   "outputs": [],
   "source": [
    "with rasterio.open(out_file) as src:\n",
    "    dst_crs = \"EPSG:3857\"\n",
    "    transform, width, height = calculate_default_transform(\n",
    "        src.crs, dst_crs, src.width, src.height, *src.bounds\n",
    "    )\n",
    "\n",
    "    kwargs = src.metadata.copy()\n",
    "    kwargs.update({\n",
    "        crs"
   ]
  },
  {
   "cell_type": "code",
   "execution_count": 87,
   "id": "013daa35-99d9-4af0-85ee-7fadd95c899c",
   "metadata": {},
   "outputs": [
    {
     "name": "stdout",
     "output_type": "stream",
     "text": [
      "(210, 4)\n",
      "[   0.            0.           42.59359434 -120.4492047 ]\n"
     ]
    }
   ],
   "source": [
    "print(asf_data_file0.geolocation_array.shape)\n",
    "print(asf_data_file0.geolocation_array[0])"
   ]
  },
  {
   "cell_type": "code",
   "execution_count": 121,
   "id": "5731cb2f-c9c6-4546-82ba-924aa9ec4545",
   "metadata": {},
   "outputs": [],
   "source": [
    "ratio = 0.01\n",
    "reduced_height = int(ratio * height)\n",
    "reduced_width = int(ratio * width)"
   ]
  },
  {
   "cell_type": "code",
   "execution_count": 122,
   "id": "c13625d8-3d84-4554-a2bc-d481b03f0a81",
   "metadata": {},
   "outputs": [],
   "source": [
    "with rasterio.open(\n",
    "    output_file,\n",
    "    \"w\",\n",
    "    driver=\"GTiff\",\n",
    "    height=height,  # reduced_height,\n",
    "    width=width,  # reduced_width,\n",
    "    count=1,\n",
    "    dtype=intensity.dtype,\n",
    "    crs=crs,\n",
    "    transform=transform_aff,\n",
    ") as dst:\n",
    "    dst.write(intensity, 1)"
   ]
  },
  {
   "cell_type": "code",
   "execution_count": 123,
   "id": "2964f9aa-e535-468d-b981-1833db7070bb",
   "metadata": {},
   "outputs": [
    {
     "name": "stdout",
     "output_type": "stream",
     "text": [
      "EPSG:4326\n",
      "|-0.00,-0.00,-120.46|\n",
      "| 0.00,-0.00, 42.59|\n",
      "| 0.00, 0.00, 1.00|\n",
      "BoundingBox(left=-121.88735404856506, bottom=41.08348613573222, right=-120.45546343294323, top=42.74020864801386)\n"
     ]
    },
    {
     "data": {
      "image/png": "[encoded data removed]",
      "text/plain": [
       "<Figure size 640x480 with 1 Axes>"
      ]
     },
     "metadata": {},
     "output_type": "display_data"
    }
   ],
   "source": [
    "with rasterio.open(output_file, \"r\") as src:\n",
    "    print(src.crs)\n",
    "    print(src.transform)\n",
    "    print(src.bounds)\n",
    "\n",
    "    # plt.imshow(src.read(1), cmap=\"pink\")\n",
    "    # plt.show()"
   ]
  },
  {
   "cell_type": "code",
   "execution_count": 126,
   "id": "a1d65b79-872a-4878-b6dd-dfd0416e0ead",
   "metadata": {},
   "outputs": [
    {
     "name": "stdout",
     "output_type": "stream",
     "text": [
      "r = np.float64(13472.0), c = np.float64(0.0), lat = np.float64(41.08364918328356), lon = np.float64(-120.8396411415921)\n",
      "r = np.float64(0.0), c = np.float64(21197.0), lat = np.float64(42.74025269372995), lon = np.float64(-121.5156160370133)\n",
      "r = np.float64(13472.0), c = np.float64(21197.0), lat = np.float64(41.23010369469937), lon = np.float64(-121.8810175432298)\n",
      "r = np.float64(0.0), c = np.float64(0.0), lat = np.float64(42.59359434337944), lon = np.float64(-120.4492046987991)\n"
     ]
    }
   ],
   "source": [
    "dest_np = np.zeros(intensity.shape, intensity.dtype)\n",
    "\n",
    "gcps = gcps_from_geolocation_array(asf_data_file0.geolocation_array)\n",
    "\n",
    "_, dst_transform = reproject(\n",
    "    intensity,\n",
    "    destination=dest_np,\n",
    "    src_transform=None,\n",
    "    gcps=gcps,\n",
    "    src_crs=\"+proj=latlong\",\n",
    "    dst_transform=transform_aff,\n",
    "    dst_crs=\"EPSG:4326\",\n",
    ")"
   ]
  },
  {
   "cell_type": "markdown",
   "id": "6076c543-e83b-4fbb-956c-8d13eec28160",
   "metadata": {},
   "source": [
    "### Load data file"
   ]
  },
  {
   "cell_type": "code",
   "execution_count": 11,
   "id": "ece6525c-1be8-48cc-b0d0-8791ff5b6c7b",
   "metadata": {},
   "outputs": [],
   "source": [
    "file_glob = glob.glob(\"../data/sentinel-1/*/measurement/*.tiff\")"
   ]
  },
  {
   "cell_type": "code",
   "execution_count": 12,
   "id": "531e62dc-0c84-4b8c-807a-4b361e582bab",
   "metadata": {},
   "outputs": [
    {
     "name": "stdout",
     "output_type": "stream",
     "text": [
      "../data/sentinel-1\\S1A_IW_SLC__1SDV_20180606T141441_20180606T141508_022237_0267EB_EC03.SAFE\\measurement\\s1a-iw1-slc-vh-20180606t141443-20180606t141508-022237-0267eb-001.tiff\n",
      "..\\data\\sentinel-1\\S1A_IW_SLC__1SDV_20180606T141441_20180606T141508_022237_0267EB_EC03.SAFE\\measurement\\s1a-iw1-slc-vh-20180606t141443-20180606t141508-022237-0267eb-001.tiff\n",
      "s1a-iw1-slc-vh-20180606t141443-20180606t141508-022237-0267eb-001\n"
     ]
    }
   ],
   "source": [
    "# Select .tiff file and get data\n",
    "file_path = file_glob[0]\n",
    "print(file_path)\n",
    "file_path_p = Path(file_path)\n",
    "print(file_path_p)\n",
    "\n",
    "file_stem = file_path_p.stem\n",
    "print(file_stem)"
   ]
  },
  {
   "cell_type": "markdown",
   "id": "b04633dd-d7f4-477d-8a52-453fcace26f6",
   "metadata": {},
   "source": [
    "### Locate and load product summary file"
   ]
  },
  {
   "cell_type": "code",
   "execution_count": 13,
   "id": "d01ae623-4177-4afc-aa19-3c90790be5b2",
   "metadata": {},
   "outputs": [
    {
     "name": "stdout",
     "output_type": "stream",
     "text": [
      "..\\data\\sentinel-1\\S1A_IW_SLC__1SDV_20180606T141441_20180606T141508_022237_0267EB_EC03.SAFE\n",
      "..\\data\\sentinel-1\\S1A_IW_SLC__1SDV_20180606T141441_20180606T141508_022237_0267EB_EC03.SAFE\\preview\n",
      "..\\data\\sentinel-1\\S1A_IW_SLC__1SDV_20180606T141441_20180606T141508_022237_0267EB_EC03.SAFE\\preview\\map-overlay.kml\n"
     ]
    }
   ],
   "source": [
    "product_path = file_path_p.parent.parent\n",
    "print(product_path)\n",
    "preview_path = product_path.joinpath(\"preview\")\n",
    "print(preview_path)\n",
    "kml_files = glob.glob(f\"{str(preview_path)}/*.kml\")\n",
    "kml_file = kml_files[0]\n",
    "print(kml_file)"
   ]
  },
  {
   "cell_type": "code",
   "execution_count": 14,
   "id": "71e57b8d-6f25-4a14-a78e-b365257275b4",
   "metadata": {},
   "outputs": [
    {
     "name": "stdout",
     "output_type": "stream",
     "text": [
      "[(-120.842606, 41.083923), (-123.8255, 41.476665), (-123.48111, 43.094376), (-120.418518, 42.702103)]\n"
     ]
    }
   ],
   "source": [
    "tree = ET.parse(kml_file)\n",
    "root = tree.getroot()\n",
    "namespaces = {\"gx\": \"http://www.google.com/kml/ext/2.2\"}\n",
    "coordinates_tag = root.find(\".//gx:LatLonQuad/coordinates\", namespaces)\n",
    "coordinates_text = coordinates_tag.text.strip()\n",
    "coordinates = [\n",
    "    tuple(map(float, coord.split(\",\"))) for coord in coordinates_text.split()\n",
    "]\n",
    "\n",
    "print(coordinates)"
   ]
  },
  {
   "cell_type": "markdown",
   "id": "b690a10a-1266-4cdc-9693-ac4f96d1d570",
   "metadata": {},
   "source": [
    "### Locate and load annotation file associated with tiff data"
   ]
  },
  {
   "cell_type": "code",
   "execution_count": 7,
   "id": "f5cfc88c-ef55-49a7-9de4-233dc25659ff",
   "metadata": {},
   "outputs": [
    {
     "name": "stdout",
     "output_type": "stream",
     "text": [
      "..\\data\\sentinel-1\\S1A_IW_SLC__1SDV_20180606T141441_20180606T141508_022237_0267EB_EC03.SAFE\\annotation\\s1a-iw1-slc-vh-20180606t141443-20180606t141508-022237-0267eb-001.xml\n"
     ]
    }
   ],
   "source": [
    "# Find annotation data for measurement file\n",
    "annotation_path = product_path / \"annotation\"\n",
    "annotation_file = annotation_path / f\"{file_stem}.xml\"\n",
    "print(annotation_file)"
   ]
  }
 ],
 "metadata": {
  "kernelspec": {
   "display_name": "Python 3 (ipykernel)",
   "language": "python",
   "name": "python3"
  },
  "language_info": {
   "codemirror_mode": {
    "name": "ipython",
    "version": 3
   },
   "file_extension": ".py",
   "mimetype": "text/x-python",
   "name": "python",
   "nbconvert_exporter": "python",
   "pygments_lexer": "ipython3",
   "version": "3.12.2"
  }
 },
 "nbformat": 4,
 "nbformat_minor": 5
}
