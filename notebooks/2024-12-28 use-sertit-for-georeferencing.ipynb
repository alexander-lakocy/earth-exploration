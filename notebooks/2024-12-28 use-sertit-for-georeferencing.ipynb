{
 "cells": [
  {
   "cell_type": "code",
   "execution_count": 3,
   "id": "726b85a1-0e61-419f-a037-6752b9dbca57",
   "metadata": {},
   "outputs": [],
   "source": [
    "import glob\n",
    "import numpy as np\n",
    "import matplotlib.pyplot as plt\n",
    "from pathlib import Path\n",
    "from sertit import vectors\n",
    "\n",
    "from asf_analysis.asf_data import ASFDataScene"
   ]
  },
  {
   "cell_type": "code",
   "execution_count": 4,
   "id": "eaf1a4d7-4333-4d22-b93a-66eba2fe54c5",
   "metadata": {},
   "outputs": [
    {
     "name": "stdout",
     "output_type": "stream",
     "text": [
      "1\n"
     ]
    }
   ],
   "source": [
    "zip_path = glob.glob(\"../data/sentinel-1/*.zip\")\n",
    "safe_path = glob.glob(\"../data/sentinel-1/*.SAFE\")\n",
    "print(len(safe_path))\n",
    "safe_p = Path(safe_path[0])"
   ]
  },
  {
   "cell_type": "code",
   "execution_count": 5,
   "id": "7ead85bc-621d-4aa1-967d-7c96bf80a683",
   "metadata": {},
   "outputs": [
    {
     "name": "stdout",
     "output_type": "stream",
     "text": [
      "_local_search_for_zipfile: safe_path = WindowsPath('../data/sentinel-1/S1A_IW_SLC__1SDV_20180606T141441_20180606T141508_022237_0267EB_EC03.SAFE')\n",
      "_local_search_for_zipfile: search_str = '..\\\\data\\\\sentinel-1\\\\S1A_IW_SLC__1SDV_20180606T141441_20180606T141508_022237_0267EB_EC03.zip'\n",
      "_local_search_for_zipfile: zips = ['..\\\\data\\\\sentinel-1\\\\S1A_IW_SLC__1SDV_20180606T141441_20180606T141508_022237_0267EB_EC03.zip']\n"
     ]
    }
   ],
   "source": [
    "asf_datascene = ASFDataScene(safe_p, extracted=True)"
   ]
  },
  {
   "cell_type": "code",
   "execution_count": 6,
   "id": "f27e1cc7-4f4d-4db7-b687-503f9aebc0d9",
   "metadata": {},
   "outputs": [],
   "source": [
    "map_overlay_file = asf_datascene.safe_path / \"preview\" / \"map-overlay.kml\""
   ]
  },
  {
   "cell_type": "code",
   "execution_count": 7,
   "id": "932ada5b-dc4d-47f0-a556-c864bf6a1a27",
   "metadata": {},
   "outputs": [
    {
     "ename": "RuntimeError",
     "evalue": "Something went wrong with ogr2ogr: Exe ogr2ogr has failed.",
     "output_type": "error",
     "traceback": [
      "\u001b[1;31m---------------------------------------------------------------------------\u001b[0m",
      "\u001b[1;31mRuntimeError\u001b[0m                              Traceback (most recent call last)",
      "File \u001b[1;32m~\\AppData\\Local\\pypoetry\\Cache\\virtualenvs\\earth-exploration-QkpwS6pU-py3.12\\Lib\\site-packages\\sertit\\vectors.py:742\u001b[0m, in \u001b[0;36mogr2geojson\u001b[1;34m(vector_path, out_dir, arch_vect_path)\u001b[0m\n\u001b[0;32m    741\u001b[0m \u001b[38;5;28;01mtry\u001b[39;00m:\n\u001b[1;32m--> 742\u001b[0m     \u001b[43mmisc\u001b[49m\u001b[38;5;241;43m.\u001b[39;49m\u001b[43mrun_cli\u001b[49m\u001b[43m(\u001b[49m\u001b[43mcmd_line\u001b[49m\u001b[43m)\u001b[49m\n\u001b[0;32m    743\u001b[0m \u001b[38;5;28;01mexcept\u001b[39;00m \u001b[38;5;167;01mRuntimeError\u001b[39;00m \u001b[38;5;28;01mas\u001b[39;00m ex:\n",
      "File \u001b[1;32m~\\AppData\\Local\\pypoetry\\Cache\\virtualenvs\\earth-exploration-QkpwS6pU-py3.12\\Lib\\site-packages\\sertit\\misc.py:419\u001b[0m, in \u001b[0;36mrun_cli\u001b[1;34m(cmd, timeout, check_return_value, in_background, cwd)\u001b[0m\n\u001b[0;32m    418\u001b[0m \u001b[38;5;28;01mif\u001b[39;00m check_return_value \u001b[38;5;129;01mand\u001b[39;00m retval \u001b[38;5;241m!=\u001b[39m \u001b[38;5;241m0\u001b[39m:\n\u001b[1;32m--> 419\u001b[0m     \u001b[38;5;28;01mraise\u001b[39;00m \u001b[38;5;167;01mRuntimeError\u001b[39;00m(\u001b[38;5;124mf\u001b[39m\u001b[38;5;124m\"\u001b[39m\u001b[38;5;124mExe \u001b[39m\u001b[38;5;132;01m{\u001b[39;00mcmd[\u001b[38;5;241m0\u001b[39m]\u001b[38;5;132;01m}\u001b[39;00m\u001b[38;5;124m has failed.\u001b[39m\u001b[38;5;124m\"\u001b[39m)\n\u001b[0;32m    421\u001b[0m \u001b[38;5;28;01mreturn\u001b[39;00m retval, output\n",
      "\u001b[1;31mRuntimeError\u001b[0m: Exe ogr2ogr has failed.",
      "\nThe above exception was the direct cause of the following exception:\n",
      "\u001b[1;31mRuntimeError\u001b[0m                              Traceback (most recent call last)",
      "Cell \u001b[1;32mIn[7], line 1\u001b[0m\n\u001b[1;32m----> 1\u001b[0m map_GDF \u001b[38;5;241m=\u001b[39m \u001b[43mvectors\u001b[49m\u001b[38;5;241;43m.\u001b[39;49m\u001b[43mread\u001b[49m\u001b[43m(\u001b[49m\u001b[43mmap_overlay_file\u001b[49m\u001b[43m)\u001b[49m\n\u001b[0;32m      2\u001b[0m \u001b[38;5;66;03m# map_GDF = vectors.read(arch_path=zip_path[0], archive_regex=r\".*map-overlay.kml\")\u001b[39;00m\n",
      "File \u001b[1;32m~\\AppData\\Local\\pypoetry\\Cache\\virtualenvs\\earth-exploration-QkpwS6pU-py3.12\\Lib\\site-packages\\sertit\\vectors.py:510\u001b[0m, in \u001b[0;36mread\u001b[1;34m(vector_path, crs, archive_regex, window, **kwargs)\u001b[0m\n\u001b[0;32m    507\u001b[0m     \u001b[38;5;28;01mraise\u001b[39;00m \u001b[38;5;167;01mFileNotFoundError\u001b[39;00m(\u001b[38;5;124mf\u001b[39m\u001b[38;5;124m\"\u001b[39m\u001b[38;5;124mNon existing vector: \u001b[39m\u001b[38;5;132;01m{\u001b[39;00mvector_path\u001b[38;5;132;01m}\u001b[39;00m\u001b[38;5;124m\"\u001b[39m)\n\u001b[0;32m    509\u001b[0m \u001b[38;5;66;03m# Read vector\u001b[39;00m\n\u001b[1;32m--> 510\u001b[0m vect \u001b[38;5;241m=\u001b[39m \u001b[43m_read_vector_core\u001b[49m\u001b[43m(\u001b[49m\u001b[43mgpd_vect_path\u001b[49m\u001b[43m,\u001b[49m\u001b[43m \u001b[49m\u001b[43mvector_path\u001b[49m\u001b[43m,\u001b[49m\u001b[43m \u001b[49m\u001b[43march_path\u001b[49m\u001b[43m,\u001b[49m\u001b[43m \u001b[49m\u001b[43mcrs\u001b[49m\u001b[43m,\u001b[49m\u001b[43m \u001b[49m\u001b[38;5;241;43m*\u001b[39;49m\u001b[38;5;241;43m*\u001b[39;49m\u001b[43mkwargs\u001b[49m\u001b[43m)\u001b[49m\n\u001b[0;32m    512\u001b[0m \u001b[38;5;66;03m# Add some attributes\u001b[39;00m\n\u001b[0;32m    513\u001b[0m vect\u001b[38;5;241m.\u001b[39mattrs[\u001b[38;5;124m\"\u001b[39m\u001b[38;5;124mpath\u001b[39m\u001b[38;5;124m\"\u001b[39m] \u001b[38;5;241m=\u001b[39m \u001b[38;5;28mstr\u001b[39m(vector_path)\n",
      "File \u001b[1;32m~\\AppData\\Local\\pypoetry\\Cache\\virtualenvs\\earth-exploration-QkpwS6pU-py3.12\\Lib\\site-packages\\sertit\\vectors.py:577\u001b[0m, in \u001b[0;36m_read_vector_core\u001b[1;34m(gpd_vect_path, raw_path, arch_path, crs, **kwargs)\u001b[0m\n\u001b[0;32m    574\u001b[0m \u001b[38;5;28;01mexcept\u001b[39;00m CPLE_AppDefinedError \u001b[38;5;28;01mas\u001b[39;00m ex:\n\u001b[0;32m    575\u001b[0m     \u001b[38;5;66;03m# CPLE_AppDefinedError is not a pyogrio exception and this is therefore too broad\u001b[39;00m\n\u001b[0;32m    576\u001b[0m     \u001b[38;5;28;01mif\u001b[39;00m is_geopandas_1_0() \u001b[38;5;129;01mand\u001b[39;00m kwargs\u001b[38;5;241m.\u001b[39mget(\u001b[38;5;124m\"\u001b[39m\u001b[38;5;124mengine\u001b[39m\u001b[38;5;124m\"\u001b[39m) \u001b[38;5;241m!=\u001b[39m \u001b[38;5;124m\"\u001b[39m\u001b[38;5;124mfiona\u001b[39m\u001b[38;5;124m\"\u001b[39m:\n\u001b[1;32m--> 577\u001b[0m         \u001b[38;5;28;01mraise\u001b[39;00m ex\n\u001b[0;32m    579\u001b[0m     \u001b[38;5;66;03m# Last try to read this vector\u001b[39;00m\n\u001b[0;32m    580\u001b[0m     \u001b[38;5;66;03m# Needs ogr2ogr here\u001b[39;00m\n\u001b[0;32m    581\u001b[0m     \u001b[38;5;28;01mif\u001b[39;00m shutil\u001b[38;5;241m.\u001b[39mwhich(\u001b[38;5;124m\"\u001b[39m\u001b[38;5;124mogr2ogr\u001b[39m\u001b[38;5;124m\"\u001b[39m):\n\u001b[0;32m    582\u001b[0m         \u001b[38;5;66;03m# Open as geojson\u001b[39;00m\n",
      "File \u001b[1;32m~\\AppData\\Local\\pypoetry\\Cache\\virtualenvs\\earth-exploration-QkpwS6pU-py3.12\\Lib\\site-packages\\sertit\\vectors.py:551\u001b[0m, in \u001b[0;36m_read_vector_core\u001b[1;34m(gpd_vect_path, raw_path, arch_path, crs, **kwargs)\u001b[0m\n\u001b[0;32m    549\u001b[0m \u001b[38;5;66;03m# Manage KML driver\u001b[39;00m\n\u001b[0;32m    550\u001b[0m \u001b[38;5;28;01mif\u001b[39;00m gpd_vect_path\u001b[38;5;241m.\u001b[39mendswith(\u001b[38;5;124m\"\u001b[39m\u001b[38;5;124m.kml\u001b[39m\u001b[38;5;124m\"\u001b[39m) \u001b[38;5;129;01mor\u001b[39;00m gpd_vect_path\u001b[38;5;241m.\u001b[39mendswith(\u001b[38;5;124m\"\u001b[39m\u001b[38;5;124m.kmz\u001b[39m\u001b[38;5;124m\"\u001b[39m):\n\u001b[1;32m--> 551\u001b[0m     vect \u001b[38;5;241m=\u001b[39m \u001b[43m_read_kml\u001b[49m\u001b[43m(\u001b[49m\u001b[43mgpd_vect_path\u001b[49m\u001b[43m,\u001b[49m\u001b[43m \u001b[49m\u001b[43mraw_path\u001b[49m\u001b[43m,\u001b[49m\u001b[43m \u001b[49m\u001b[43march_path\u001b[49m\u001b[43m,\u001b[49m\u001b[43m \u001b[49m\u001b[43mtmp_dir\u001b[49m\u001b[43m,\u001b[49m\u001b[43m \u001b[49m\u001b[38;5;241;43m*\u001b[39;49m\u001b[38;5;241;43m*\u001b[39;49m\u001b[43mkwargs\u001b[49m\u001b[43m)\u001b[49m\n\u001b[0;32m    552\u001b[0m \u001b[38;5;28;01melse\u001b[39;00m:\n\u001b[0;32m    553\u001b[0m     vect \u001b[38;5;241m=\u001b[39m gpd\u001b[38;5;241m.\u001b[39mread_file(gpd_vect_path, \u001b[38;5;241m*\u001b[39m\u001b[38;5;241m*\u001b[39mkwargs)\n",
      "File \u001b[1;32m~\\AppData\\Local\\pypoetry\\Cache\\virtualenvs\\earth-exploration-QkpwS6pU-py3.12\\Lib\\site-packages\\sertit\\vectors.py:670\u001b[0m, in \u001b[0;36m_read_kml\u001b[1;34m(gpd_vect_path, raw_path, arch_path, tmp_dir, **kwargs)\u001b[0m\n\u001b[0;32m    667\u001b[0m     \u001b[38;5;28;01mif\u001b[39;00m \u001b[38;5;129;01mnot\u001b[39;00m tmp_dir:\n\u001b[0;32m    668\u001b[0m         tmp_dir \u001b[38;5;241m=\u001b[39m tempfile\u001b[38;5;241m.\u001b[39mTemporaryDirectory()\n\u001b[1;32m--> 670\u001b[0m     vect_path_gj \u001b[38;5;241m=\u001b[39m \u001b[43mogr2geojson\u001b[49m\u001b[43m(\u001b[49m\u001b[43mraw_path\u001b[49m\u001b[43m,\u001b[49m\u001b[43m \u001b[49m\u001b[43mtmp_dir\u001b[49m\u001b[38;5;241;43m.\u001b[39;49m\u001b[43mname\u001b[49m\u001b[43m,\u001b[49m\u001b[43m \u001b[49m\u001b[43march_path\u001b[49m\u001b[43m)\u001b[49m\n\u001b[0;32m    671\u001b[0m     vect \u001b[38;5;241m=\u001b[39m gpd\u001b[38;5;241m.\u001b[39mread_file(vect_path_gj, \u001b[38;5;241m*\u001b[39m\u001b[38;5;241m*\u001b[39mkwargs)\n\u001b[0;32m    672\u001b[0m \u001b[38;5;28;01melse\u001b[39;00m:\n\u001b[0;32m    673\u001b[0m     \u001b[38;5;66;03m# Try reading it in a basic manner\u001b[39;00m\n",
      "File \u001b[1;32m~\\AppData\\Local\\pypoetry\\Cache\\virtualenvs\\earth-exploration-QkpwS6pU-py3.12\\Lib\\site-packages\\sertit\\vectors.py:744\u001b[0m, in \u001b[0;36mogr2geojson\u001b[1;34m(vector_path, out_dir, arch_vect_path)\u001b[0m\n\u001b[0;32m    742\u001b[0m     misc\u001b[38;5;241m.\u001b[39mrun_cli(cmd_line)\n\u001b[0;32m    743\u001b[0m \u001b[38;5;28;01mexcept\u001b[39;00m \u001b[38;5;167;01mRuntimeError\u001b[39;00m \u001b[38;5;28;01mas\u001b[39;00m ex:\n\u001b[1;32m--> 744\u001b[0m     \u001b[38;5;28;01mraise\u001b[39;00m \u001b[38;5;167;01mRuntimeError\u001b[39;00m(\u001b[38;5;124mf\u001b[39m\u001b[38;5;124m\"\u001b[39m\u001b[38;5;124mSomething went wrong with ogr2ogr: \u001b[39m\u001b[38;5;132;01m{\u001b[39;00mex\u001b[38;5;132;01m}\u001b[39;00m\u001b[38;5;124m\"\u001b[39m) \u001b[38;5;28;01mfrom\u001b[39;00m \u001b[38;5;21;01mex\u001b[39;00m\n\u001b[0;32m    746\u001b[0m \u001b[38;5;28;01mreturn\u001b[39;00m vect_path_gj\n",
      "\u001b[1;31mRuntimeError\u001b[0m: Something went wrong with ogr2ogr: Exe ogr2ogr has failed."
     ]
    }
   ],
   "source": [
    "map_GDF = vectors.read(map_overlay_file)\n",
    "# map_GDF = vectors.read(arch_path=zip_path[0], archive_regex=r\".*map-overlay.kml\")"
   ]
  },
  {
   "cell_type": "code",
   "execution_count": 6,
   "id": "45dab745-5a95-462d-8d41-edffb1fa017c",
   "metadata": {},
   "outputs": [
    {
     "name": "stdout",
     "output_type": "stream",
     "text": [
      "Empty GeoDataFrame\n",
      "Columns: [Name, Description, geometry]\n",
      "Index: []\n"
     ]
    }
   ],
   "source": [
    "print(map_GDF.head())"
   ]
  },
  {
   "cell_type": "code",
   "execution_count": null,
   "id": "ba89ea04-f7ce-497f-9a57-4ae083d5093a",
   "metadata": {},
   "outputs": [],
   "source": []
  }
 ],
 "metadata": {
  "kernelspec": {
   "display_name": "Python 3 (ipykernel)",
   "language": "python",
   "name": "python3"
  },
  "language_info": {
   "codemirror_mode": {
    "name": "ipython",
    "version": 3
   },
   "file_extension": ".py",
   "mimetype": "text/x-python",
   "name": "python",
   "nbconvert_exporter": "python",
   "pygments_lexer": "ipython3",
   "version": "3.12.2"
  }
 },
 "nbformat": 4,
 "nbformat_minor": 5
}
